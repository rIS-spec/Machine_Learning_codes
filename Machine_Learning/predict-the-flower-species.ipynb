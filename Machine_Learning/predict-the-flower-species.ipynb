{
 "cells": [
  {
   "cell_type": "code",
   "execution_count": 1,
   "id": "20ce8675",
   "metadata": {
    "_cell_guid": "b1076dfc-b9ad-4769-8c92-a6c4dae69d19",
    "_uuid": "8f2839f25d086af736a60e9eeb907d3b93b6e0e5",
    "execution": {
     "iopub.execute_input": "2025-08-30T19:06:47.515119Z",
     "iopub.status.busy": "2025-08-30T19:06:47.514813Z",
     "iopub.status.idle": "2025-08-30T19:06:49.402311Z",
     "shell.execute_reply": "2025-08-30T19:06:49.401052Z"
    },
    "papermill": {
     "duration": 1.895316,
     "end_time": "2025-08-30T19:06:49.403934",
     "exception": false,
     "start_time": "2025-08-30T19:06:47.508618",
     "status": "completed"
    },
    "tags": []
   },
   "outputs": [
    {
     "name": "stdout",
     "output_type": "stream",
     "text": [
      "/kaggle/input/iris/Iris.csv\n",
      "/kaggle/input/iris/database.sqlite\n"
     ]
    }
   ],
   "source": [
    "# This Python 3 environment comes with many helpful analytics libraries installed\n",
    "# It is defined by the kaggle/python Docker image: https://github.com/kaggle/docker-python\n",
    "# For example, here's several helpful packages to load\n",
    "\n",
    "import numpy as np # linear algebra\n",
    "import pandas as pd # data processing, CSV file I/O (e.g. pd.read_csv)\n",
    "\n",
    "# Input data files are available in the read-only \"../input/\" directory\n",
    "# For example, running this (by clicking run or pressing Shift+Enter) will list all files under the input directory\n",
    "\n",
    "import os\n",
    "for dirname, _, filenames in os.walk('/kaggle/input'):\n",
    "    for filename in filenames:\n",
    "        print(os.path.join(dirname, filename))\n",
    "\n",
    "# You can write up to 20GB to the current directory (/kaggle/working/) that gets preserved as output when you create a version using \"Save & Run All\" \n",
    "# You can also write temporary files to /kaggle/temp/, but they won't be saved outside of the current session"
   ]
  },
  {
   "cell_type": "code",
   "execution_count": 2,
   "id": "3c23c5ab",
   "metadata": {
    "execution": {
     "iopub.execute_input": "2025-08-30T19:06:49.413723Z",
     "iopub.status.busy": "2025-08-30T19:06:49.413308Z",
     "iopub.status.idle": "2025-08-30T19:06:51.980029Z",
     "shell.execute_reply": "2025-08-30T19:06:51.978914Z"
    },
    "papermill": {
     "duration": 2.573586,
     "end_time": "2025-08-30T19:06:51.981945",
     "exception": false,
     "start_time": "2025-08-30T19:06:49.408359",
     "status": "completed"
    },
    "tags": []
   },
   "outputs": [],
   "source": [
    "import numpy as np\n",
    "import pandas as pd\n",
    "import matplotlib.pyplot as plt\n",
    "import seaborn as sns\n",
    "from sklearn.linear_model import LinearRegression\n",
    "from sklearn.model_selection import train_test_split\n",
    "from sklearn.preprocessing import StandardScaler\n",
    "from sklearn.linear_model import LogisticRegression\n",
    "from sklearn.naive_bayes import GaussianNB\n",
    "from sklearn.svm import SVC\n",
    "from sklearn.tree import DecisionTreeClassifier\n",
    "from sklearn.metrics import accuracy_score, confusion_matrix, classification_report\n",
    "from sklearn.ensemble import RandomForestClassifier,BaggingClassifier\n",
    "from sklearn.neighbors import KNeighborsClassifier\n",
    "from sklearn.preprocessing import LabelEncoder\n",
    "from sklearn.metrics import r2_score\n",
    "from sklearn.decomposition import PCA\n",
    "from sklearn.metrics import accuracy_score, f1_score, classification_report\n",
    "from sklearn.model_selection import cross_val_score\n",
    "from sklearn.model_selection import RandomizedSearchCV\n",
    "\n",
    "\n",
    "import warnings\n",
    "warnings.filterwarnings('ignore')"
   ]
  },
  {
   "cell_type": "code",
   "execution_count": 3,
   "id": "4ff9e482",
   "metadata": {
    "execution": {
     "iopub.execute_input": "2025-08-30T19:06:51.992407Z",
     "iopub.status.busy": "2025-08-30T19:06:51.991873Z",
     "iopub.status.idle": "2025-08-30T19:06:52.030961Z",
     "shell.execute_reply": "2025-08-30T19:06:52.030151Z"
    },
    "papermill": {
     "duration": 0.046093,
     "end_time": "2025-08-30T19:06:52.032482",
     "exception": false,
     "start_time": "2025-08-30T19:06:51.986389",
     "status": "completed"
    },
    "tags": []
   },
   "outputs": [
    {
     "data": {
      "text/html": [
       "<div>\n",
       "<style scoped>\n",
       "    .dataframe tbody tr th:only-of-type {\n",
       "        vertical-align: middle;\n",
       "    }\n",
       "\n",
       "    .dataframe tbody tr th {\n",
       "        vertical-align: top;\n",
       "    }\n",
       "\n",
       "    .dataframe thead th {\n",
       "        text-align: right;\n",
       "    }\n",
       "</style>\n",
       "<table border=\"1\" class=\"dataframe\">\n",
       "  <thead>\n",
       "    <tr style=\"text-align: right;\">\n",
       "      <th></th>\n",
       "      <th>Id</th>\n",
       "      <th>SepalLengthCm</th>\n",
       "      <th>SepalWidthCm</th>\n",
       "      <th>PetalLengthCm</th>\n",
       "      <th>PetalWidthCm</th>\n",
       "      <th>Species</th>\n",
       "    </tr>\n",
       "  </thead>\n",
       "  <tbody>\n",
       "    <tr>\n",
       "      <th>0</th>\n",
       "      <td>1</td>\n",
       "      <td>5.1</td>\n",
       "      <td>3.5</td>\n",
       "      <td>1.4</td>\n",
       "      <td>0.2</td>\n",
       "      <td>Iris-setosa</td>\n",
       "    </tr>\n",
       "    <tr>\n",
       "      <th>1</th>\n",
       "      <td>2</td>\n",
       "      <td>4.9</td>\n",
       "      <td>3.0</td>\n",
       "      <td>1.4</td>\n",
       "      <td>0.2</td>\n",
       "      <td>Iris-setosa</td>\n",
       "    </tr>\n",
       "    <tr>\n",
       "      <th>2</th>\n",
       "      <td>3</td>\n",
       "      <td>4.7</td>\n",
       "      <td>3.2</td>\n",
       "      <td>1.3</td>\n",
       "      <td>0.2</td>\n",
       "      <td>Iris-setosa</td>\n",
       "    </tr>\n",
       "    <tr>\n",
       "      <th>3</th>\n",
       "      <td>4</td>\n",
       "      <td>4.6</td>\n",
       "      <td>3.1</td>\n",
       "      <td>1.5</td>\n",
       "      <td>0.2</td>\n",
       "      <td>Iris-setosa</td>\n",
       "    </tr>\n",
       "    <tr>\n",
       "      <th>4</th>\n",
       "      <td>5</td>\n",
       "      <td>5.0</td>\n",
       "      <td>3.6</td>\n",
       "      <td>1.4</td>\n",
       "      <td>0.2</td>\n",
       "      <td>Iris-setosa</td>\n",
       "    </tr>\n",
       "  </tbody>\n",
       "</table>\n",
       "</div>"
      ],
      "text/plain": [
       "   Id  SepalLengthCm  SepalWidthCm  PetalLengthCm  PetalWidthCm      Species\n",
       "0   1            5.1           3.5            1.4           0.2  Iris-setosa\n",
       "1   2            4.9           3.0            1.4           0.2  Iris-setosa\n",
       "2   3            4.7           3.2            1.3           0.2  Iris-setosa\n",
       "3   4            4.6           3.1            1.5           0.2  Iris-setosa\n",
       "4   5            5.0           3.6            1.4           0.2  Iris-setosa"
      ]
     },
     "execution_count": 3,
     "metadata": {},
     "output_type": "execute_result"
    }
   ],
   "source": [
    "df = pd.read_csv(\"/kaggle/input/iris/Iris.csv\")\n",
    "df.head()"
   ]
  },
  {
   "cell_type": "code",
   "execution_count": 4,
   "id": "0b266837",
   "metadata": {
    "execution": {
     "iopub.execute_input": "2025-08-30T19:06:52.042613Z",
     "iopub.status.busy": "2025-08-30T19:06:52.042295Z",
     "iopub.status.idle": "2025-08-30T19:06:52.068215Z",
     "shell.execute_reply": "2025-08-30T19:06:52.067252Z"
    },
    "papermill": {
     "duration": 0.032831,
     "end_time": "2025-08-30T19:06:52.069797",
     "exception": false,
     "start_time": "2025-08-30T19:06:52.036966",
     "status": "completed"
    },
    "tags": []
   },
   "outputs": [
    {
     "data": {
      "text/html": [
       "<div>\n",
       "<style scoped>\n",
       "    .dataframe tbody tr th:only-of-type {\n",
       "        vertical-align: middle;\n",
       "    }\n",
       "\n",
       "    .dataframe tbody tr th {\n",
       "        vertical-align: top;\n",
       "    }\n",
       "\n",
       "    .dataframe thead th {\n",
       "        text-align: right;\n",
       "    }\n",
       "</style>\n",
       "<table border=\"1\" class=\"dataframe\">\n",
       "  <thead>\n",
       "    <tr style=\"text-align: right;\">\n",
       "      <th></th>\n",
       "      <th>Id</th>\n",
       "      <th>SepalLengthCm</th>\n",
       "      <th>SepalWidthCm</th>\n",
       "      <th>PetalLengthCm</th>\n",
       "      <th>PetalWidthCm</th>\n",
       "    </tr>\n",
       "  </thead>\n",
       "  <tbody>\n",
       "    <tr>\n",
       "      <th>count</th>\n",
       "      <td>150.000000</td>\n",
       "      <td>150.000000</td>\n",
       "      <td>150.000000</td>\n",
       "      <td>150.000000</td>\n",
       "      <td>150.000000</td>\n",
       "    </tr>\n",
       "    <tr>\n",
       "      <th>mean</th>\n",
       "      <td>75.500000</td>\n",
       "      <td>5.843333</td>\n",
       "      <td>3.054000</td>\n",
       "      <td>3.758667</td>\n",
       "      <td>1.198667</td>\n",
       "    </tr>\n",
       "    <tr>\n",
       "      <th>std</th>\n",
       "      <td>43.445368</td>\n",
       "      <td>0.828066</td>\n",
       "      <td>0.433594</td>\n",
       "      <td>1.764420</td>\n",
       "      <td>0.763161</td>\n",
       "    </tr>\n",
       "    <tr>\n",
       "      <th>min</th>\n",
       "      <td>1.000000</td>\n",
       "      <td>4.300000</td>\n",
       "      <td>2.000000</td>\n",
       "      <td>1.000000</td>\n",
       "      <td>0.100000</td>\n",
       "    </tr>\n",
       "    <tr>\n",
       "      <th>25%</th>\n",
       "      <td>38.250000</td>\n",
       "      <td>5.100000</td>\n",
       "      <td>2.800000</td>\n",
       "      <td>1.600000</td>\n",
       "      <td>0.300000</td>\n",
       "    </tr>\n",
       "    <tr>\n",
       "      <th>50%</th>\n",
       "      <td>75.500000</td>\n",
       "      <td>5.800000</td>\n",
       "      <td>3.000000</td>\n",
       "      <td>4.350000</td>\n",
       "      <td>1.300000</td>\n",
       "    </tr>\n",
       "    <tr>\n",
       "      <th>75%</th>\n",
       "      <td>112.750000</td>\n",
       "      <td>6.400000</td>\n",
       "      <td>3.300000</td>\n",
       "      <td>5.100000</td>\n",
       "      <td>1.800000</td>\n",
       "    </tr>\n",
       "    <tr>\n",
       "      <th>max</th>\n",
       "      <td>150.000000</td>\n",
       "      <td>7.900000</td>\n",
       "      <td>4.400000</td>\n",
       "      <td>6.900000</td>\n",
       "      <td>2.500000</td>\n",
       "    </tr>\n",
       "  </tbody>\n",
       "</table>\n",
       "</div>"
      ],
      "text/plain": [
       "               Id  SepalLengthCm  SepalWidthCm  PetalLengthCm  PetalWidthCm\n",
       "count  150.000000     150.000000    150.000000     150.000000    150.000000\n",
       "mean    75.500000       5.843333      3.054000       3.758667      1.198667\n",
       "std     43.445368       0.828066      0.433594       1.764420      0.763161\n",
       "min      1.000000       4.300000      2.000000       1.000000      0.100000\n",
       "25%     38.250000       5.100000      2.800000       1.600000      0.300000\n",
       "50%     75.500000       5.800000      3.000000       4.350000      1.300000\n",
       "75%    112.750000       6.400000      3.300000       5.100000      1.800000\n",
       "max    150.000000       7.900000      4.400000       6.900000      2.500000"
      ]
     },
     "execution_count": 4,
     "metadata": {},
     "output_type": "execute_result"
    }
   ],
   "source": [
    "df.describe()"
   ]
  },
  {
   "cell_type": "code",
   "execution_count": 5,
   "id": "444561a3",
   "metadata": {
    "execution": {
     "iopub.execute_input": "2025-08-30T19:06:52.080140Z",
     "iopub.status.busy": "2025-08-30T19:06:52.079776Z",
     "iopub.status.idle": "2025-08-30T19:06:52.099917Z",
     "shell.execute_reply": "2025-08-30T19:06:52.098604Z"
    },
    "papermill": {
     "duration": 0.02698,
     "end_time": "2025-08-30T19:06:52.101467",
     "exception": false,
     "start_time": "2025-08-30T19:06:52.074487",
     "status": "completed"
    },
    "tags": []
   },
   "outputs": [
    {
     "name": "stdout",
     "output_type": "stream",
     "text": [
      "<class 'pandas.core.frame.DataFrame'>\n",
      "RangeIndex: 150 entries, 0 to 149\n",
      "Data columns (total 6 columns):\n",
      " #   Column         Non-Null Count  Dtype  \n",
      "---  ------         --------------  -----  \n",
      " 0   Id             150 non-null    int64  \n",
      " 1   SepalLengthCm  150 non-null    float64\n",
      " 2   SepalWidthCm   150 non-null    float64\n",
      " 3   PetalLengthCm  150 non-null    float64\n",
      " 4   PetalWidthCm   150 non-null    float64\n",
      " 5   Species        150 non-null    object \n",
      "dtypes: float64(4), int64(1), object(1)\n",
      "memory usage: 7.2+ KB\n"
     ]
    }
   ],
   "source": [
    "df.info()"
   ]
  },
  {
   "cell_type": "code",
   "execution_count": 6,
   "id": "51261dc7",
   "metadata": {
    "execution": {
     "iopub.execute_input": "2025-08-30T19:06:52.111805Z",
     "iopub.status.busy": "2025-08-30T19:06:52.111463Z",
     "iopub.status.idle": "2025-08-30T19:06:52.119308Z",
     "shell.execute_reply": "2025-08-30T19:06:52.118305Z"
    },
    "papermill": {
     "duration": 0.014723,
     "end_time": "2025-08-30T19:06:52.120807",
     "exception": false,
     "start_time": "2025-08-30T19:06:52.106084",
     "status": "completed"
    },
    "tags": []
   },
   "outputs": [
    {
     "data": {
      "text/plain": [
       "Id               0\n",
       "SepalLengthCm    0\n",
       "SepalWidthCm     0\n",
       "PetalLengthCm    0\n",
       "PetalWidthCm     0\n",
       "Species          0\n",
       "dtype: int64"
      ]
     },
     "execution_count": 6,
     "metadata": {},
     "output_type": "execute_result"
    }
   ],
   "source": [
    "df.isnull().sum()"
   ]
  },
  {
   "cell_type": "code",
   "execution_count": 7,
   "id": "5b331888",
   "metadata": {
    "execution": {
     "iopub.execute_input": "2025-08-30T19:06:52.131255Z",
     "iopub.status.busy": "2025-08-30T19:06:52.130931Z",
     "iopub.status.idle": "2025-08-30T19:06:52.137198Z",
     "shell.execute_reply": "2025-08-30T19:06:52.136213Z"
    },
    "papermill": {
     "duration": 0.013138,
     "end_time": "2025-08-30T19:06:52.138658",
     "exception": false,
     "start_time": "2025-08-30T19:06:52.125520",
     "status": "completed"
    },
    "tags": []
   },
   "outputs": [
    {
     "data": {
      "text/plain": [
       "Index(['Id', 'SepalLengthCm', 'SepalWidthCm', 'PetalLengthCm', 'PetalWidthCm',\n",
       "       'Species'],\n",
       "      dtype='object')"
      ]
     },
     "execution_count": 7,
     "metadata": {},
     "output_type": "execute_result"
    }
   ],
   "source": [
    "df.columns"
   ]
  },
  {
   "cell_type": "code",
   "execution_count": 8,
   "id": "4359396b",
   "metadata": {
    "execution": {
     "iopub.execute_input": "2025-08-30T19:06:52.149043Z",
     "iopub.status.busy": "2025-08-30T19:06:52.148739Z",
     "iopub.status.idle": "2025-08-30T19:06:52.157295Z",
     "shell.execute_reply": "2025-08-30T19:06:52.156346Z"
    },
    "papermill": {
     "duration": 0.015693,
     "end_time": "2025-08-30T19:06:52.158969",
     "exception": false,
     "start_time": "2025-08-30T19:06:52.143276",
     "status": "completed"
    },
    "tags": []
   },
   "outputs": [
    {
     "name": "stdout",
     "output_type": "stream",
     "text": [
      "   Id  SepalLengthCm  SepalWidthCm  PetalLengthCm  PetalWidthCm  Species\n",
      "0   1            5.1           3.5            1.4           0.2        0\n",
      "1   2            4.9           3.0            1.4           0.2        0\n",
      "2   3            4.7           3.2            1.3           0.2        0\n",
      "3   4            4.6           3.1            1.5           0.2        0\n",
      "4   5            5.0           3.6            1.4           0.2        0\n"
     ]
    }
   ],
   "source": [
    "le = LabelEncoder()\n",
    "df[\"Species\"] = le.fit_transform(df[\"Species\"])\n",
    "print(df.head())"
   ]
  },
  {
   "cell_type": "code",
   "execution_count": 9,
   "id": "ca42ee38",
   "metadata": {
    "execution": {
     "iopub.execute_input": "2025-08-30T19:06:52.172666Z",
     "iopub.status.busy": "2025-08-30T19:06:52.172349Z",
     "iopub.status.idle": "2025-08-30T19:06:53.085536Z",
     "shell.execute_reply": "2025-08-30T19:06:53.084353Z"
    },
    "papermill": {
     "duration": 0.920448,
     "end_time": "2025-08-30T19:06:53.087109",
     "exception": false,
     "start_time": "2025-08-30T19:06:52.166661",
     "status": "completed"
    },
    "tags": []
   },
   "outputs": [
    {
     "data": {
      "image/png": "[encoded data removed]",
      "text/plain": [
       "<Figure size 640x480 with 5 Axes>"
      ]
     },
     "metadata": {},
     "output_type": "display_data"
    }
   ],
   "source": [
    "var = ['SepalLengthCm', 'SepalWidthCm', 'PetalLengthCm', 'PetalWidthCm','Species']\n",
    "def plotting(var,num):  # Function to plot histograms with KDE for specified variables.\n",
    "    plt.subplot(2,3,num)\n",
    "    sns.histplot(df[var], kde=True)\n",
    "\n",
    "plotting('SepalLengthCm', 1)\n",
    "plotting('SepalWidthCm', 2)\n",
    "plotting('PetalLengthCm', 3)\n",
    "plotting('PetalWidthCm', 4)\n",
    "plotting('Species', 5)\n",
    "\n",
    "plt.tight_layout() # Adjust layout to prevent overlap.\n",
    "plt.show() # Display the plots.\n",
    "    "
   ]
  },
  {
   "cell_type": "code",
   "execution_count": 10,
   "id": "e807af1d",
   "metadata": {
    "execution": {
     "iopub.execute_input": "2025-08-30T19:06:53.100577Z",
     "iopub.status.busy": "2025-08-30T19:06:53.100268Z",
     "iopub.status.idle": "2025-08-30T19:06:53.457467Z",
     "shell.execute_reply": "2025-08-30T19:06:53.456489Z"
    },
    "papermill": {
     "duration": 0.365894,
     "end_time": "2025-08-30T19:06:53.458991",
     "exception": false,
     "start_time": "2025-08-30T19:06:53.093097",
     "status": "completed"
    },
    "tags": []
   },
   "outputs": [
    {
     "data": {
      "image/png": "[encoded data removed]",
      "text/plain": [
       "<Figure size 640x480 with 4 Axes>"
      ]
     },
     "metadata": {},
     "output_type": "display_data"
    }
   ],
   "source": [
    "var = ['SepalLengthCm', 'SepalWidthCm', 'PetalLengthCm', 'PetalWidthCm']\n",
    "def plotting(var,num):  # Function to plot histograms with KDE for specified variables.\n",
    "    plt.subplot(2,2,num)\n",
    "    sns.boxplot(df[var])\n",
    "\n",
    "plotting('SepalLengthCm', 1)\n",
    "plotting('SepalWidthCm', 2)\n",
    "plotting('PetalLengthCm', 3)\n",
    "plotting('PetalWidthCm', 4)\n",
    "\n",
    "\n",
    "plt.tight_layout() # Adjust layout to prevent overlap.\n",
    "plt.show() # Display the plots."
   ]
  },
  {
   "cell_type": "code",
   "execution_count": 11,
   "id": "bd36ed6e",
   "metadata": {
    "execution": {
     "iopub.execute_input": "2025-08-30T19:06:53.472169Z",
     "iopub.status.busy": "2025-08-30T19:06:53.471831Z",
     "iopub.status.idle": "2025-08-30T19:06:53.814467Z",
     "shell.execute_reply": "2025-08-30T19:06:53.813507Z"
    },
    "papermill": {
     "duration": 0.351124,
     "end_time": "2025-08-30T19:06:53.816213",
     "exception": false,
     "start_time": "2025-08-30T19:06:53.465089",
     "status": "completed"
    },
    "tags": []
   },
   "outputs": [
    {
     "data": {
      "image/png": "[encoded data removed]",
      "text/plain": [
       "<Figure size 800x600 with 2 Axes>"
      ]
     },
     "metadata": {},
     "output_type": "display_data"
    }
   ],
   "source": [
    "plt.figure(figsize=(8,6))\n",
    "sns.heatmap(df.corr(numeric_only=True), annot=True, cmap='coolwarm')   # This is for comparison\n",
    "plt.title('Correlation Heatmap')\n",
    "plt.tight_layout()\n",
    "plt.show()"
   ]
  },
  {
   "cell_type": "code",
   "execution_count": 12,
   "id": "e1657278",
   "metadata": {
    "execution": {
     "iopub.execute_input": "2025-08-30T19:06:53.831865Z",
     "iopub.status.busy": "2025-08-30T19:06:53.831514Z",
     "iopub.status.idle": "2025-08-30T19:06:54.095347Z",
     "shell.execute_reply": "2025-08-30T19:06:54.094474Z"
    },
    "papermill": {
     "duration": 0.27327,
     "end_time": "2025-08-30T19:06:54.096993",
     "exception": false,
     "start_time": "2025-08-30T19:06:53.823723",
     "status": "completed"
    },
    "tags": []
   },
   "outputs": [
    {
     "data": {
      "image/png": "[encoded data removed]",
      "text/plain": [
       "<Figure size 800x600 with 1 Axes>"
      ]
     },
     "metadata": {},
     "output_type": "display_data"
    }
   ],
   "source": [
    "plt.figure(figsize=(8,6))\n",
    "for species in df[\"Species\"].unique():\n",
    "    subset = df[df[\"Species\"] == species]\n",
    "    plt.scatter(subset[\"PetalLengthCm\"], subset[\"PetalWidthCm\"], label=species)\n",
    "\n",
    "plt.xlabel(\"Petal Length (cm)\")\n",
    "plt.ylabel(\"Petal Width (cm)\")\n",
    "plt.title(\"Iris Dataset - Scatter Plot\")\n",
    "plt.legend()\n",
    "plt.show()"
   ]
  },
  {
   "cell_type": "code",
   "execution_count": 13,
   "id": "96e483e0",
   "metadata": {
    "execution": {
     "iopub.execute_input": "2025-08-30T19:06:54.113661Z",
     "iopub.status.busy": "2025-08-30T19:06:54.113354Z",
     "iopub.status.idle": "2025-08-30T19:06:54.126315Z",
     "shell.execute_reply": "2025-08-30T19:06:54.125489Z"
    },
    "papermill": {
     "duration": 0.022867,
     "end_time": "2025-08-30T19:06:54.127740",
     "exception": false,
     "start_time": "2025-08-30T19:06:54.104873",
     "status": "completed"
    },
    "tags": []
   },
   "outputs": [
    {
     "data": {
      "text/html": [
       "<div>\n",
       "<style scoped>\n",
       "    .dataframe tbody tr th:only-of-type {\n",
       "        vertical-align: middle;\n",
       "    }\n",
       "\n",
       "    .dataframe tbody tr th {\n",
       "        vertical-align: top;\n",
       "    }\n",
       "\n",
       "    .dataframe thead th {\n",
       "        text-align: right;\n",
       "    }\n",
       "</style>\n",
       "<table border=\"1\" class=\"dataframe\">\n",
       "  <thead>\n",
       "    <tr style=\"text-align: right;\">\n",
       "      <th></th>\n",
       "      <th>Id</th>\n",
       "      <th>SepalLengthCm</th>\n",
       "      <th>SepalWidthCm</th>\n",
       "      <th>PetalLengthCm</th>\n",
       "      <th>PetalWidthCm</th>\n",
       "      <th>Species</th>\n",
       "    </tr>\n",
       "  </thead>\n",
       "  <tbody>\n",
       "    <tr>\n",
       "      <th>0</th>\n",
       "      <td>1</td>\n",
       "      <td>5.1</td>\n",
       "      <td>3.5</td>\n",
       "      <td>1.4</td>\n",
       "      <td>0.2</td>\n",
       "      <td>0</td>\n",
       "    </tr>\n",
       "    <tr>\n",
       "      <th>1</th>\n",
       "      <td>2</td>\n",
       "      <td>4.9</td>\n",
       "      <td>3.0</td>\n",
       "      <td>1.4</td>\n",
       "      <td>0.2</td>\n",
       "      <td>0</td>\n",
       "    </tr>\n",
       "    <tr>\n",
       "      <th>2</th>\n",
       "      <td>3</td>\n",
       "      <td>4.7</td>\n",
       "      <td>3.2</td>\n",
       "      <td>1.3</td>\n",
       "      <td>0.2</td>\n",
       "      <td>0</td>\n",
       "    </tr>\n",
       "    <tr>\n",
       "      <th>3</th>\n",
       "      <td>4</td>\n",
       "      <td>4.6</td>\n",
       "      <td>3.1</td>\n",
       "      <td>1.5</td>\n",
       "      <td>0.2</td>\n",
       "      <td>0</td>\n",
       "    </tr>\n",
       "    <tr>\n",
       "      <th>4</th>\n",
       "      <td>5</td>\n",
       "      <td>5.0</td>\n",
       "      <td>3.6</td>\n",
       "      <td>1.4</td>\n",
       "      <td>0.2</td>\n",
       "      <td>0</td>\n",
       "    </tr>\n",
       "  </tbody>\n",
       "</table>\n",
       "</div>"
      ],
      "text/plain": [
       "   Id  SepalLengthCm  SepalWidthCm  PetalLengthCm  PetalWidthCm  Species\n",
       "0   1            5.1           3.5            1.4           0.2        0\n",
       "1   2            4.9           3.0            1.4           0.2        0\n",
       "2   3            4.7           3.2            1.3           0.2        0\n",
       "3   4            4.6           3.1            1.5           0.2        0\n",
       "4   5            5.0           3.6            1.4           0.2        0"
      ]
     },
     "execution_count": 13,
     "metadata": {},
     "output_type": "execute_result"
    }
   ],
   "source": [
    "le = LabelEncoder()\n",
    "df[\"Species\"] = le.fit_transform(df[\"Species\"])\n",
    "df.head()"
   ]
  },
  {
   "cell_type": "code",
   "execution_count": 14,
   "id": "12f27989",
   "metadata": {
    "execution": {
     "iopub.execute_input": "2025-08-30T19:06:54.144392Z",
     "iopub.status.busy": "2025-08-30T19:06:54.143864Z",
     "iopub.status.idle": "2025-08-30T19:06:54.149422Z",
     "shell.execute_reply": "2025-08-30T19:06:54.148679Z"
    },
    "papermill": {
     "duration": 0.015349,
     "end_time": "2025-08-30T19:06:54.150674",
     "exception": false,
     "start_time": "2025-08-30T19:06:54.135325",
     "status": "completed"
    },
    "tags": []
   },
   "outputs": [],
   "source": [
    "X = df.drop('Species',axis = 1)\n",
    "y  = df['Species']"
   ]
  },
  {
   "cell_type": "code",
   "execution_count": 15,
   "id": "1dc52c3e",
   "metadata": {
    "execution": {
     "iopub.execute_input": "2025-08-30T19:06:54.167609Z",
     "iopub.status.busy": "2025-08-30T19:06:54.167307Z",
     "iopub.status.idle": "2025-08-30T19:06:54.173975Z",
     "shell.execute_reply": "2025-08-30T19:06:54.173173Z"
    },
    "papermill": {
     "duration": 0.01683,
     "end_time": "2025-08-30T19:06:54.175443",
     "exception": false,
     "start_time": "2025-08-30T19:06:54.158613",
     "status": "completed"
    },
    "tags": []
   },
   "outputs": [],
   "source": [
    "X_train, X_test, y_train, y_test = train_test_split(\n",
    "    X, y, test_size=0.2, random_state=42\n",
    ")"
   ]
  },
  {
   "cell_type": "code",
   "execution_count": 16,
   "id": "d74d10ad",
   "metadata": {
    "execution": {
     "iopub.execute_input": "2025-08-30T19:06:54.192401Z",
     "iopub.status.busy": "2025-08-30T19:06:54.191527Z",
     "iopub.status.idle": "2025-08-30T19:06:54.249586Z",
     "shell.execute_reply": "2025-08-30T19:06:54.248832Z"
    },
    "papermill": {
     "duration": 0.06866,
     "end_time": "2025-08-30T19:06:54.251661",
     "exception": false,
     "start_time": "2025-08-30T19:06:54.183001",
     "status": "completed"
    },
    "tags": []
   },
   "outputs": [],
   "source": [
    "scaler = StandardScaler()\n",
    "x_train_scaled = scaler.fit_transform(X_train)\n",
    "x_test_scaled = scaler.transform(X_test)   # use transform, not fit_transform\n",
    "\n",
    "\n",
    "\n",
    "models = {\n",
    "    \"Logistic Regression\" : LogisticRegression(),\n",
    "    \"KNN\" : KNeighborsClassifier(n_neighbors=5),\n",
    "    \"Naive Bayes\" : GaussianNB(),   # fixed spelling\n",
    "    \"Decision Tree\" : DecisionTreeClassifier(),\n",
    "    \"SVM (RBF Kernel)\" : SVC(probability=True)\n",
    "}\n",
    "\n",
    "\n",
    "\n",
    "results = []\n",
    "for name, model in models.items():\n",
    "    model.fit(x_train_scaled, y_train)\n",
    "    y_pred = model.predict(x_test_scaled)\n",
    "    acc = accuracy_score(y_test, y_pred)\n",
    "    f1 = f1_score(y_test, y_pred, average='weighted')  # added average\n",
    "    results.append({\n",
    "        'model': name,\n",
    "        'Accuracy': round(acc, 4),\n",
    "        'f1 score': round(f1, 4)\n",
    "    })"
   ]
  },
  {
   "cell_type": "code",
   "execution_count": 17,
   "id": "22737f2e",
   "metadata": {
    "execution": {
     "iopub.execute_input": "2025-08-30T19:06:54.278163Z",
     "iopub.status.busy": "2025-08-30T19:06:54.277826Z",
     "iopub.status.idle": "2025-08-30T19:06:54.286073Z",
     "shell.execute_reply": "2025-08-30T19:06:54.284432Z"
    },
    "papermill": {
     "duration": 0.023717,
     "end_time": "2025-08-30T19:06:54.287874",
     "exception": false,
     "start_time": "2025-08-30T19:06:54.264157",
     "status": "completed"
    },
    "tags": []
   },
   "outputs": [
    {
     "data": {
      "text/plain": [
       "[{'model': 'Logistic Regression', 'Accuracy': 1.0, 'f1 score': 1.0},\n",
       " {'model': 'KNN', 'Accuracy': 1.0, 'f1 score': 1.0},\n",
       " {'model': 'Naive Bayes', 'Accuracy': 1.0, 'f1 score': 1.0},\n",
       " {'model': 'Decision Tree', 'Accuracy': 1.0, 'f1 score': 1.0},\n",
       " {'model': 'SVM (RBF Kernel)', 'Accuracy': 1.0, 'f1 score': 1.0}]"
      ]
     },
     "execution_count": 17,
     "metadata": {},
     "output_type": "execute_result"
    }
   ],
   "source": [
    "results"
   ]
  },
  {
   "cell_type": "code",
   "execution_count": 18,
   "id": "dada0935",
   "metadata": {
    "execution": {
     "iopub.execute_input": "2025-08-30T19:06:54.315878Z",
     "iopub.status.busy": "2025-08-30T19:06:54.315293Z",
     "iopub.status.idle": "2025-08-30T19:06:54.597391Z",
     "shell.execute_reply": "2025-08-30T19:06:54.596701Z"
    },
    "papermill": {
     "duration": 0.298518,
     "end_time": "2025-08-30T19:06:54.598869",
     "exception": false,
     "start_time": "2025-08-30T19:06:54.300351",
     "status": "completed"
    },
    "tags": []
   },
   "outputs": [],
   "source": [
    "cv_results = []\n",
    "for name, model in models.items():\n",
    "    scores = cross_val_score(model, X, y, cv=5, scoring='accuracy')\n",
    "    cv_results.append({\n",
    "        'model': name,\n",
    "        'CV mean accuracy': round(scores.mean(), 4),\n",
    "        'CV std dev': round(scores.std(), 4)   # variability\n",
    "    })\n"
   ]
  },
  {
   "cell_type": "code",
   "execution_count": 19,
   "id": "a5171534",
   "metadata": {
    "execution": {
     "iopub.execute_input": "2025-08-30T19:06:54.615438Z",
     "iopub.status.busy": "2025-08-30T19:06:54.615136Z",
     "iopub.status.idle": "2025-08-30T19:06:54.621042Z",
     "shell.execute_reply": "2025-08-30T19:06:54.620185Z"
    },
    "papermill": {
     "duration": 0.016088,
     "end_time": "2025-08-30T19:06:54.622489",
     "exception": false,
     "start_time": "2025-08-30T19:06:54.606401",
     "status": "completed"
    },
    "tags": []
   },
   "outputs": [
    {
     "data": {
      "text/plain": [
       "[{'model': 'Logistic Regression',\n",
       "  'CV mean accuracy': 0.94,\n",
       "  'CV std dev': 0.0742},\n",
       " {'model': 'KNN', 'CV mean accuracy': 0.8733, 'CV std dev': 0.1555},\n",
       " {'model': 'Naive Bayes', 'CV mean accuracy': 0.9933, 'CV std dev': 0.0133},\n",
       " {'model': 'Decision Tree', 'CV mean accuracy': 0.9333, 'CV std dev': 0.0816},\n",
       " {'model': 'SVM (RBF Kernel)',\n",
       "  'CV mean accuracy': 0.8667,\n",
       "  'CV std dev': 0.1633}]"
      ]
     },
     "execution_count": 19,
     "metadata": {},
     "output_type": "execute_result"
    }
   ],
   "source": [
    "cv_results"
   ]
  },
  {
   "cell_type": "code",
   "execution_count": 20,
   "id": "9743c83b",
   "metadata": {
    "execution": {
     "iopub.execute_input": "2025-08-30T19:06:54.640058Z",
     "iopub.status.busy": "2025-08-30T19:06:54.639730Z",
     "iopub.status.idle": "2025-08-30T19:06:55.325954Z",
     "shell.execute_reply": "2025-08-30T19:06:55.324999Z"
    },
    "papermill": {
     "duration": 0.696722,
     "end_time": "2025-08-30T19:06:55.327462",
     "exception": false,
     "start_time": "2025-08-30T19:06:54.630740",
     "status": "completed"
    },
    "tags": []
   },
   "outputs": [
    {
     "name": "stdout",
     "output_type": "stream",
     "text": [
      "Best KNN params (Random): {'weights': 'uniform', 'n_neighbors': 14}\n",
      "Best KNN accuracy (Random): 0.8799999999999999\n",
      "Best Decision Tree params (Random): {'min_samples_split': 2, 'max_depth': None, 'criterion': 'entropy'}\n",
      "Best Decision Tree accuracy (Random): 0.9333333333333333\n",
      "Best SVM params (Random): {'kernel': 'rbf', 'gamma': 0.021544346900318832, 'C': 35.93813663804626}\n",
      "Best SVM accuracy (Random): 0.8733333333333333\n"
     ]
    }
   ],
   "source": [
    "# 1. KNN\n",
    "\n",
    "knn_params = {\n",
    "    'n_neighbors': np.arange(1, 21),\n",
    "    'weights': ['uniform', 'distance']\n",
    "}\n",
    "knn_random = RandomizedSearchCV(\n",
    "    KNeighborsClassifier(),\n",
    "    knn_params,\n",
    "    n_iter=10,\n",
    "    cv=5,\n",
    "    scoring='accuracy',\n",
    "    random_state=42\n",
    ")\n",
    "knn_random.fit(X, y)\n",
    "print(\"Best KNN params (Random):\", knn_random.best_params_)\n",
    "print(\"Best KNN accuracy (Random):\", knn_random.best_score_)\n",
    "\n",
    "\n",
    "\n",
    "# 2. Decision Tree\n",
    "\n",
    "dt_params = {\n",
    "    'max_depth': [2, 3, 4, 5, None],\n",
    "    'min_samples_split': [2, 5, 10],\n",
    "    'criterion': ['gini', 'entropy']\n",
    "}\n",
    "dt_random = RandomizedSearchCV(\n",
    "    DecisionTreeClassifier(),\n",
    "    dt_params,\n",
    "    n_iter=10,\n",
    "    cv=5,\n",
    "    scoring='accuracy',\n",
    "    random_state=42\n",
    ")\n",
    "dt_random.fit(X, y)\n",
    "print(\"Best Decision Tree params (Random):\", dt_random.best_params_)\n",
    "print(\"Best Decision Tree accuracy (Random):\", dt_random.best_score_)\n",
    "\n",
    "\n",
    "\n",
    "# 3. SVM (RBF)\n",
    "\n",
    "svm_params = {\n",
    "    'C': np.logspace(-2, 2, 10),\n",
    "    'gamma': np.logspace(-3, 1, 10),\n",
    "    'kernel': ['rbf']\n",
    "}\n",
    "svm_random = RandomizedSearchCV(\n",
    "    SVC(),\n",
    "    svm_params,\n",
    "    n_iter=10,\n",
    "    cv=5,\n",
    "    scoring='accuracy',\n",
    "    random_state=42\n",
    ")\n",
    "svm_random.fit(X, y)\n",
    "print(\"Best SVM params (Random):\", svm_random.best_params_)\n",
    "print(\"Best SVM accuracy (Random):\", svm_random.best_score_)\n"
   ]
  },
  {
   "cell_type": "code",
   "execution_count": 21,
   "id": "767f6deb",
   "metadata": {
    "execution": {
     "iopub.execute_input": "2025-08-30T19:06:55.344781Z",
     "iopub.status.busy": "2025-08-30T19:06:55.343998Z",
     "iopub.status.idle": "2025-08-30T19:06:55.392490Z",
     "shell.execute_reply": "2025-08-30T19:06:55.391276Z"
    },
    "papermill": {
     "duration": 0.058699,
     "end_time": "2025-08-30T19:06:55.394026",
     "exception": false,
     "start_time": "2025-08-30T19:06:55.335327",
     "status": "completed"
    },
    "tags": []
   },
   "outputs": [
    {
     "name": "stdout",
     "output_type": "stream",
     "text": [
      "\n",
      "KNN Results:\n",
      "Accuracy: 1.0\n",
      "F1 Score: 1.0\n",
      "Confusion Matrix:\n",
      " [[10  0  0]\n",
      " [ 0 10  0]\n",
      " [ 0  0 10]]\n",
      "Classification Report:\n",
      "               precision    recall  f1-score   support\n",
      "\n",
      "           0       1.00      1.00      1.00        10\n",
      "           1       1.00      1.00      1.00        10\n",
      "           2       1.00      1.00      1.00        10\n",
      "\n",
      "    accuracy                           1.00        30\n",
      "   macro avg       1.00      1.00      1.00        30\n",
      "weighted avg       1.00      1.00      1.00        30\n",
      "\n",
      "\n",
      "Decision Tree Results:\n",
      "Accuracy: 1.0\n",
      "F1 Score: 1.0\n",
      "Confusion Matrix:\n",
      " [[10  0  0]\n",
      " [ 0 10  0]\n",
      " [ 0  0 10]]\n",
      "Classification Report:\n",
      "               precision    recall  f1-score   support\n",
      "\n",
      "           0       1.00      1.00      1.00        10\n",
      "           1       1.00      1.00      1.00        10\n",
      "           2       1.00      1.00      1.00        10\n",
      "\n",
      "    accuracy                           1.00        30\n",
      "   macro avg       1.00      1.00      1.00        30\n",
      "weighted avg       1.00      1.00      1.00        30\n",
      "\n",
      "\n",
      "SVM (RBF) Results:\n",
      "Accuracy: 1.0\n",
      "F1 Score: 1.0\n",
      "Confusion Matrix:\n",
      " [[10  0  0]\n",
      " [ 0 10  0]\n",
      " [ 0  0 10]]\n",
      "Classification Report:\n",
      "               precision    recall  f1-score   support\n",
      "\n",
      "           0       1.00      1.00      1.00        10\n",
      "           1       1.00      1.00      1.00        10\n",
      "           2       1.00      1.00      1.00        10\n",
      "\n",
      "    accuracy                           1.00        30\n",
      "   macro avg       1.00      1.00      1.00        30\n",
      "weighted avg       1.00      1.00      1.00        30\n",
      "\n",
      "\n",
      "Final Comparison: [{'Model': 'KNN', 'Test Accuracy': 1.0, 'Test F1 Score': 1.0}, {'Model': 'Decision Tree', 'Test Accuracy': 1.0, 'Test F1 Score': 1.0}, {'Model': 'SVM (RBF)', 'Test Accuracy': 1.0, 'Test F1 Score': 1.0}]\n"
     ]
    }
   ],
   "source": [
    "# 1️. Train-test split (80% train, 20% test)\n",
    "X_train, X_test, y_train, y_test = train_test_split(X, y, test_size=0.2, random_state=42, stratify=y)\n",
    "\n",
    "\n",
    "\n",
    "# 2️. Scale features (important for KNN & SVM, not needed for Decision Tree but we keep consistent)\n",
    "from sklearn.preprocessing import StandardScaler\n",
    "scaler = StandardScaler()\n",
    "X_train_scaled = scaler.fit_transform(X_train)\n",
    "X_test_scaled = scaler.transform(X_test)\n",
    "\n",
    "\n",
    "\n",
    "# 3️. Best models from RandomizedSearchCV (you already found them)\n",
    "from sklearn.neighbors import KNeighborsClassifier\n",
    "from sklearn.tree import DecisionTreeClassifier\n",
    "from sklearn.svm import SVC\n",
    "\n",
    "best_knn = KNeighborsClassifier(n_neighbors=14, weights='uniform')\n",
    "best_dt = DecisionTreeClassifier(max_depth=None, min_samples_split=2, criterion='entropy')\n",
    "best_svm = SVC(kernel='rbf', C=35.93813663804626, gamma=0.021544346900318832, probability=True)\n",
    "\n",
    "models = {\n",
    "    \"KNN\": best_knn,\n",
    "    \"Decision Tree\": best_dt,\n",
    "    \"SVM (RBF)\": best_svm\n",
    "}\n",
    "\n",
    "\n",
    "\n",
    "# 4. Train + Evaluate on test set\n",
    "results = []\n",
    "for name, model in models.items():\n",
    "    model.fit(X_train_scaled, y_train)\n",
    "    y_pred = model.predict(X_test_scaled)\n",
    "    \n",
    "    acc = accuracy_score(y_test, y_pred)\n",
    "    f1 = f1_score(y_test, y_pred, average=\"weighted\")   # for multiclass\n",
    "    \n",
    "    results.append({\n",
    "        \"Model\": name,\n",
    "        \"Test Accuracy\": round(acc, 4),\n",
    "        \"Test F1 Score\": round(f1, 4)\n",
    "    })\n",
    "\n",
    "    \n",
    "    print(f\"\\n{name} Results:\")\n",
    "    print(\"Accuracy:\", round(acc, 4))\n",
    "    print(\"F1 Score:\", round(f1, 4))\n",
    "    print(\"Confusion Matrix:\\n\", confusion_matrix(y_test, y_pred))\n",
    "    print(\"Classification Report:\\n\", classification_report(y_test, y_pred))\n",
    "\n",
    "print(\"\\nFinal Comparison:\", results)\n"
   ]
  }
 ],
 "metadata": {
  "kaggle": {
   "accelerator": "none",
   "dataSources": [
    {
     "datasetId": 19,
     "sourceId": 420,
     "sourceType": "datasetVersion"
    }
   ],
   "dockerImageVersionId": 31089,
   "isGpuEnabled": false,
   "isInternetEnabled": false,
   "language": "python",
   "sourceType": "notebook"
  },
  "kernelspec": {
   "display_name": "Python 3",
   "language": "python",
   "name": "python3"
  },
  "language_info": {
   "codemirror_mode": {
    "name": "ipython",
    "version": 3
   },
   "file_extension": ".py",
   "mimetype": "text/x-python",
   "name": "python",
   "nbconvert_exporter": "python",
   "pygments_lexer": "ipython3",
   "version": "3.11.13"
  },
  "papermill": {
   "default_parameters": {},
   "duration": 14.146156,
   "end_time": "2025-08-30T19:06:56.122030",
   "environment_variables": {},
   "exception": null,
   "input_path": "__notebook__.ipynb",
   "output_path": "__notebook__.ipynb",
   "parameters": {},
   "start_time": "2025-08-30T19:06:41.975874",
   "version": "2.6.0"
  }
 },
 "nbformat": 4,
 "nbformat_minor": 5
}
