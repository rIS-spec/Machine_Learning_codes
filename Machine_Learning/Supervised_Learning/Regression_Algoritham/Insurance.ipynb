{
  "cells": [
    {
      "cell_type": "markdown",
      "id": "1b73dcc1-8b4e-4dce-ad5c-a3657f68b8e0",
      "metadata": {
        "id": "1b73dcc1-8b4e-4dce-ad5c-a3657f68b8e0"
      },
      "source": [
        "# EDA"
      ]
    },
    {
      "cell_type": "code",
      "execution_count": 2,
      "id": "71426d40-ff7f-42eb-8ecc-fd7c1a54d844",
      "metadata": {
        "id": "71426d40-ff7f-42eb-8ecc-fd7c1a54d844"
      },
      "outputs": [],
      "source": [
        "import numpy as np\n",
        "import pandas as pd\n",
        "import seaborn as sns\n",
        "import matplotlib.pyplot as plt\n",
        "import warnings\n",
        "\n",
        "warnings.filterwarnings('ignore')"
      ]
    },
    {
      "cell_type": "code",
      "execution_count": 3,
      "id": "2773a95c-bd62-4d6e-8516-c20c27bd8ad2",
      "metadata": {
        "id": "2773a95c-bd62-4d6e-8516-c20c27bd8ad2"
      },
      "outputs": [],
      "source": [
        "df = pd.read_csv(\"insurance.csv\")"
      ]
    },
    {
      "cell_type": "code",
      "execution_count": 4,
      "id": "18c6f606-6b0d-4e95-a969-6bbae0bbd6e2",
      "metadata": {
        "colab": {
          "base_uri": "https://localhost:8080/",
          "height": 206
        },
        "id": "18c6f606-6b0d-4e95-a969-6bbae0bbd6e2",
        "outputId": "ec70f915-a67a-4f9d-f76b-457603fbdf18"
      },
      "outputs": [
        {
          "data": {
            "text/html": [
              "<div>\n",
              "<style scoped>\n",
              "    .dataframe tbody tr th:only-of-type {\n",
              "        vertical-align: middle;\n",
              "    }\n",
              "\n",
              "    .dataframe tbody tr th {\n",
              "        vertical-align: top;\n",
              "    }\n",
              "\n",
              "    .dataframe thead th {\n",
              "        text-align: right;\n",
              "    }\n",
              "</style>\n",
              "<table border=\"1\" class=\"dataframe\">\n",
              "  <thead>\n",
              "    <tr style=\"text-align: right;\">\n",
              "      <th></th>\n",
              "      <th>age</th>\n",
              "      <th>sex</th>\n",
              "      <th>bmi</th>\n",
              "      <th>children</th>\n",
              "      <th>smoker</th>\n",
              "      <th>region</th>\n",
              "      <th>charges</th>\n",
              "    </tr>\n",
              "  </thead>\n",
              "  <tbody>\n",
              "    <tr>\n",
              "      <th>0</th>\n",
              "      <td>19</td>\n",
              "      <td>female</td>\n",
              "      <td>27.900</td>\n",
              "      <td>0</td>\n",
              "      <td>yes</td>\n",
              "      <td>southwest</td>\n",
              "      <td>16884.92400</td>\n",
              "    </tr>\n",
              "    <tr>\n",
              "      <th>1</th>\n",
              "      <td>18</td>\n",
              "      <td>male</td>\n",
              "      <td>33.770</td>\n",
              "      <td>1</td>\n",
              "      <td>no</td>\n",
              "      <td>southeast</td>\n",
              "      <td>1725.55230</td>\n",
              "    </tr>\n",
              "    <tr>\n",
              "      <th>2</th>\n",
              "      <td>28</td>\n",
              "      <td>male</td>\n",
              "      <td>33.000</td>\n",
              "      <td>3</td>\n",
              "      <td>no</td>\n",
              "      <td>southeast</td>\n",
              "      <td>4449.46200</td>\n",
              "    </tr>\n",
              "    <tr>\n",
              "      <th>3</th>\n",
              "      <td>33</td>\n",
              "      <td>male</td>\n",
              "      <td>22.705</td>\n",
              "      <td>0</td>\n",
              "      <td>no</td>\n",
              "      <td>northwest</td>\n",
              "      <td>21984.47061</td>\n",
              "    </tr>\n",
              "    <tr>\n",
              "      <th>4</th>\n",
              "      <td>32</td>\n",
              "      <td>male</td>\n",
              "      <td>28.880</td>\n",
              "      <td>0</td>\n",
              "      <td>no</td>\n",
              "      <td>northwest</td>\n",
              "      <td>3866.85520</td>\n",
              "    </tr>\n",
              "  </tbody>\n",
              "</table>\n",
              "</div>"
            ],
            "text/plain": [
              "   age     sex     bmi  children smoker     region      charges\n",
              "0   19  female  27.900         0    yes  southwest  16884.92400\n",
              "1   18    male  33.770         1     no  southeast   1725.55230\n",
              "2   28    male  33.000         3     no  southeast   4449.46200\n",
              "3   33    male  22.705         0     no  northwest  21984.47061\n",
              "4   32    male  28.880         0     no  northwest   3866.85520"
            ]
          },
          "execution_count": 4,
          "metadata": {},
          "output_type": "execute_result"
        }
      ],
      "source": [
        "df.head()"
      ]
    },
    {
      "cell_type": "code",
      "execution_count": 5,
      "id": "120f2685-0bee-4201-8d5d-60f2a04c003c",
      "metadata": {
        "colab": {
          "base_uri": "https://localhost:8080/"
        },
        "id": "120f2685-0bee-4201-8d5d-60f2a04c003c",
        "outputId": "e0f11dd1-78e0-4a24-d5cc-b0271d9cd3f9"
      },
      "outputs": [
        {
          "data": {
            "text/plain": [
              "(1338, 7)"
            ]
          },
          "execution_count": 5,
          "metadata": {},
          "output_type": "execute_result"
        }
      ],
      "source": [
        "df.shape"
      ]
    },
    {
      "cell_type": "code",
      "execution_count": 6,
      "id": "360dc0f0-47c7-4838-bfa1-b6477c8d2048",
      "metadata": {
        "colab": {
          "base_uri": "https://localhost:8080/"
        },
        "id": "360dc0f0-47c7-4838-bfa1-b6477c8d2048",
        "outputId": "f9642842-b82c-44fd-ffc4-fbc95b578e8c"
      },
      "outputs": [
        {
          "name": "stdout",
          "output_type": "stream",
          "text": [
            "<class 'pandas.core.frame.DataFrame'>\n",
            "RangeIndex: 1338 entries, 0 to 1337\n",
            "Data columns (total 7 columns):\n",
            " #   Column    Non-Null Count  Dtype  \n",
            "---  ------    --------------  -----  \n",
            " 0   age       1338 non-null   int64  \n",
            " 1   sex       1338 non-null   object \n",
            " 2   bmi       1338 non-null   float64\n",
            " 3   children  1338 non-null   int64  \n",
            " 4   smoker    1338 non-null   object \n",
            " 5   region    1338 non-null   object \n",
            " 6   charges   1338 non-null   float64\n",
            "dtypes: float64(2), int64(2), object(3)\n",
            "memory usage: 73.3+ KB\n"
          ]
        }
      ],
      "source": [
        "df.info()"
      ]
    },
    {
      "cell_type": "code",
      "execution_count": 7,
      "id": "5a1392d3-324e-4a2f-8cd1-23d61ea89e72",
      "metadata": {
        "colab": {
          "base_uri": "https://localhost:8080/",
          "height": 300
        },
        "id": "5a1392d3-324e-4a2f-8cd1-23d61ea89e72",
        "outputId": "2e0401cf-0164-44ed-eaf7-003ed7f6df80"
      },
      "outputs": [
        {
          "data": {
            "text/html": [
              "<div>\n",
              "<style scoped>\n",
              "    .dataframe tbody tr th:only-of-type {\n",
              "        vertical-align: middle;\n",
              "    }\n",
              "\n",
              "    .dataframe tbody tr th {\n",
              "        vertical-align: top;\n",
              "    }\n",
              "\n",
              "    .dataframe thead th {\n",
              "        text-align: right;\n",
              "    }\n",
              "</style>\n",
              "<table border=\"1\" class=\"dataframe\">\n",
              "  <thead>\n",
              "    <tr style=\"text-align: right;\">\n",
              "      <th></th>\n",
              "      <th>age</th>\n",
              "      <th>bmi</th>\n",
              "      <th>children</th>\n",
              "      <th>charges</th>\n",
              "    </tr>\n",
              "  </thead>\n",
              "  <tbody>\n",
              "    <tr>\n",
              "      <th>count</th>\n",
              "      <td>1338.000000</td>\n",
              "      <td>1338.000000</td>\n",
              "      <td>1338.000000</td>\n",
              "      <td>1338.000000</td>\n",
              "    </tr>\n",
              "    <tr>\n",
              "      <th>mean</th>\n",
              "      <td>39.207025</td>\n",
              "      <td>30.663397</td>\n",
              "      <td>1.094918</td>\n",
              "      <td>13270.422265</td>\n",
              "    </tr>\n",
              "    <tr>\n",
              "      <th>std</th>\n",
              "      <td>14.049960</td>\n",
              "      <td>6.098187</td>\n",
              "      <td>1.205493</td>\n",
              "      <td>12110.011237</td>\n",
              "    </tr>\n",
              "    <tr>\n",
              "      <th>min</th>\n",
              "      <td>18.000000</td>\n",
              "      <td>15.960000</td>\n",
              "      <td>0.000000</td>\n",
              "      <td>1121.873900</td>\n",
              "    </tr>\n",
              "    <tr>\n",
              "      <th>25%</th>\n",
              "      <td>27.000000</td>\n",
              "      <td>26.296250</td>\n",
              "      <td>0.000000</td>\n",
              "      <td>4740.287150</td>\n",
              "    </tr>\n",
              "    <tr>\n",
              "      <th>50%</th>\n",
              "      <td>39.000000</td>\n",
              "      <td>30.400000</td>\n",
              "      <td>1.000000</td>\n",
              "      <td>9382.033000</td>\n",
              "    </tr>\n",
              "    <tr>\n",
              "      <th>75%</th>\n",
              "      <td>51.000000</td>\n",
              "      <td>34.693750</td>\n",
              "      <td>2.000000</td>\n",
              "      <td>16639.912515</td>\n",
              "    </tr>\n",
              "    <tr>\n",
              "      <th>max</th>\n",
              "      <td>64.000000</td>\n",
              "      <td>53.130000</td>\n",
              "      <td>5.000000</td>\n",
              "      <td>63770.428010</td>\n",
              "    </tr>\n",
              "  </tbody>\n",
              "</table>\n",
              "</div>"
            ],
            "text/plain": [
              "               age          bmi     children       charges\n",
              "count  1338.000000  1338.000000  1338.000000   1338.000000\n",
              "mean     39.207025    30.663397     1.094918  13270.422265\n",
              "std      14.049960     6.098187     1.205493  12110.011237\n",
              "min      18.000000    15.960000     0.000000   1121.873900\n",
              "25%      27.000000    26.296250     0.000000   4740.287150\n",
              "50%      39.000000    30.400000     1.000000   9382.033000\n",
              "75%      51.000000    34.693750     2.000000  16639.912515\n",
              "max      64.000000    53.130000     5.000000  63770.428010"
            ]
          },
          "execution_count": 7,
          "metadata": {},
          "output_type": "execute_result"
        }
      ],
      "source": [
        "df.describe()"
      ]
    },
    {
      "cell_type": "code",
      "execution_count": 8,
      "id": "4dde4c8b-b77e-4a40-a2e2-1b6403cb3e04",
      "metadata": {
        "colab": {
          "base_uri": "https://localhost:8080/",
          "height": 304
        },
        "id": "4dde4c8b-b77e-4a40-a2e2-1b6403cb3e04",
        "outputId": "085a8c9d-ee1a-4a89-aa75-7eb1aff9c30a"
      },
      "outputs": [
        {
          "data": {
            "text/plain": [
              "age         0\n",
              "sex         0\n",
              "bmi         0\n",
              "children    0\n",
              "smoker      0\n",
              "region      0\n",
              "charges     0\n",
              "dtype: int64"
            ]
          },
          "execution_count": 8,
          "metadata": {},
          "output_type": "execute_result"
        }
      ],
      "source": [
        "df.isnull().sum()"
      ]
    },
    {
      "cell_type": "code",
      "execution_count": 9,
      "id": "4fb2e7c7-bbf7-4740-b1f5-713bec70d812",
      "metadata": {
        "colab": {
          "base_uri": "https://localhost:8080/",
          "height": 1000
        },
        "id": "4fb2e7c7-bbf7-4740-b1f5-713bec70d812",
        "outputId": "0b85df1c-60a7-4c5d-bf38-bc04cfc00fd9"
      },
      "outputs": [
        {
          "data": {
            "image/png": "[encoded data removed]",
            "text/plain": [
              "<Figure size 600x400 with 1 Axes>"
            ]
          },
          "metadata": {},
          "output_type": "display_data"
        },
        {
          "data": {
            "image/png": "[encoded data removed]",
            "text/plain": [
              "<Figure size 600x400 with 1 Axes>"
            ]
          },
          "metadata": {},
          "output_type": "display_data"
        },
        {
          "data": {
            "image/png": "[encoded data removed]",
            "text/plain": [
              "<Figure size 600x400 with 1 Axes>"
            ]
          },
          "metadata": {},
          "output_type": "display_data"
        },
        {
          "data": {
            "image/png": "[encoded data removed]",
            "text/plain": [
              "<Figure size 600x400 with 1 Axes>"
            ]
          },
          "metadata": {},
          "output_type": "display_data"
        }
      ],
      "source": [
        "numerical_columns = ['age','bmi','children','charges']\n",
        "for col in numerical_columns:\n",
        "    plt.figure(figsize=(6,4))\n",
        "    sns.histplot(df[col],kde = True , bins = 30)\n",
        "    plt.title(f'Distribution of {col}')\n",
        "    plt.xlabel(col)\n",
        "    plt.ylabel('Frequency')\n",
        "    plt.tight_layout()\n",
        "    plt.show()\n"
      ]
    },
    {
      "cell_type": "code",
      "execution_count": 10,
      "id": "b41cbbfe-1c05-4780-b8b4-c2abf7db1bc4",
      "metadata": {
        "colab": {
          "base_uri": "https://localhost:8080/",
          "height": 471
        },
        "id": "b41cbbfe-1c05-4780-b8b4-c2abf7db1bc4",
        "outputId": "a6bcadc8-4d04-4e86-afaa-492d0b28ff4b"
      },
      "outputs": [
        {
          "data": {
            "text/plain": [
              "<Axes: xlabel='children', ylabel='count'>"
            ]
          },
          "execution_count": 10,
          "metadata": {},
          "output_type": "execute_result"
        },
        {
          "data": {
            "image/png": "[encoded data removed]",
            "text/plain": [
              "<Figure size 640x480 with 1 Axes>"
            ]
          },
          "metadata": {},
          "output_type": "display_data"
        }
      ],
      "source": [
        "sns.countplot(x = df['children'])"
      ]
    },
    {
      "cell_type": "code",
      "execution_count": 11,
      "id": "7cb8f296-df95-4204-a80e-6e87c1dbdc73",
      "metadata": {
        "colab": {
          "base_uri": "https://localhost:8080/",
          "height": 468
        },
        "id": "7cb8f296-df95-4204-a80e-6e87c1dbdc73",
        "outputId": "9601d5d7-460e-4f78-d43c-acf7a1829d4d"
      },
      "outputs": [
        {
          "data": {
            "text/plain": [
              "<Axes: xlabel='sex', ylabel='count'>"
            ]
          },
          "execution_count": 11,
          "metadata": {},
          "output_type": "execute_result"
        },
        {
          "data": {
            "image/png": "[encoded data removed]",
            "text/plain": [
              "<Figure size 640x480 with 1 Axes>"
            ]
          },
          "metadata": {},
          "output_type": "display_data"
        }
      ],
      "source": [
        "sns.countplot(x = df['sex'])"
      ]
    },
    {
      "cell_type": "code",
      "execution_count": 12,
      "id": "3526a813-b618-4f55-9949-1677b249a74a",
      "metadata": {
        "colab": {
          "base_uri": "https://localhost:8080/",
          "height": 467
        },
        "id": "3526a813-b618-4f55-9949-1677b249a74a",
        "outputId": "4754d706-db46-4724-cd53-96f9b753ae2d"
      },
      "outputs": [
        {
          "data": {
            "text/plain": [
              "<Axes: xlabel='smoker', ylabel='count'>"
            ]
          },
          "execution_count": 12,
          "metadata": {},
          "output_type": "execute_result"
        },
        {
          "data": {
            "image/png": "[encoded data removed]",
            "text/plain": [
              "<Figure size 640x480 with 1 Axes>"
            ]
          },
          "metadata": {},
          "output_type": "display_data"
        }
      ],
      "source": [
        "sns.countplot(x = df['smoker'])"
      ]
    },
    {
      "cell_type": "code",
      "execution_count": 13,
      "id": "8fd0220e-7f4c-4bf6-aab8-94c0a20030ae",
      "metadata": {
        "colab": {
          "base_uri": "https://localhost:8080/",
          "height": 1000
        },
        "id": "8fd0220e-7f4c-4bf6-aab8-94c0a20030ae",
        "outputId": "7b4272e7-de16-42e5-8565-256c36f6bc94"
      },
      "outputs": [
        {
          "data": {
            "image/png": "[encoded data removed]",
            "text/plain": [
              "<Figure size 600x400 with 1 Axes>"
            ]
          },
          "metadata": {},
          "output_type": "display_data"
        },
        {
          "data": {
            "image/png": "[encoded data removed]",
            "text/plain": [
              "<Figure size 600x400 with 1 Axes>"
            ]
          },
          "metadata": {},
          "output_type": "display_data"
        },
        {
          "data": {
            "image/png": "[encoded data removed]",
            "text/plain": [
              "<Figure size 600x400 with 1 Axes>"
            ]
          },
          "metadata": {},
          "output_type": "display_data"
        },
        {
          "data": {
            "image/png": "[encoded data removed]",
            "text/plain": [
              "<Figure size 600x400 with 1 Axes>"
            ]
          },
          "metadata": {},
          "output_type": "display_data"
        }
      ],
      "source": [
        "for col in numerical_columns:\n",
        "    plt.figure(figsize=(6, 4))\n",
        "    sns.boxplot(x=df[col])\n",
        "    df[col].describe()\n",
        "    plt.title(f'Boxplot of {col}')\n",
        "    plt.tight_layout()\n",
        "    plt.show()"
      ]
    },
    {
      "cell_type": "code",
      "execution_count": 14,
      "id": "22484276-7f58-44b3-bcdb-dd4912e09234",
      "metadata": {
        "colab": {
          "base_uri": "https://localhost:8080/",
          "height": 607
        },
        "id": "22484276-7f58-44b3-bcdb-dd4912e09234",
        "outputId": "0a5f4463-add5-4470-8d4e-558a33d13648"
      },
      "outputs": [
        {
          "data": {
            "image/png": "[encoded data removed]",
            "text/plain": [
              "<Figure size 800x600 with 2 Axes>"
            ]
          },
          "metadata": {},
          "output_type": "display_data"
        }
      ],
      "source": [
        "plt.figure(figsize=(8, 6))\n",
        "sns.heatmap(df.corr(numeric_only=True), annot=True, cmap='coolwarm')\n",
        "plt.title('Correlation Heatmap')\n",
        "plt.tight_layout()\n",
        "plt.show()"
      ]
    },
    {
      "cell_type": "markdown",
      "id": "4617797d-baa4-4462-95a9-a97f918b7dd2",
      "metadata": {
        "id": "4617797d-baa4-4462-95a9-a97f918b7dd2"
      },
      "source": [
        "# DATA Cleaning and Preprocessing"
      ]
    },
    {
      "cell_type": "code",
      "execution_count": 15,
      "id": "c2cf7f85-5f5b-4d65-a8d7-008f00799e19",
      "metadata": {
        "id": "c2cf7f85-5f5b-4d65-a8d7-008f00799e19"
      },
      "outputs": [],
      "source": [
        "df_cleaned = df.copy()\n"
      ]
    },
    {
      "cell_type": "code",
      "execution_count": 16,
      "id": "b3f9b7ce-ae20-489d-8b5c-36c199e7d7ae",
      "metadata": {
        "id": "b3f9b7ce-ae20-489d-8b5c-36c199e7d7ae"
      },
      "outputs": [],
      "source": [
        "df_cleaned.drop_duplicates(inplace=True)"
      ]
    },
    {
      "cell_type": "code",
      "execution_count": 17,
      "id": "34d642ed-2a62-4e11-80fc-9f41cc0b6fc0",
      "metadata": {
        "colab": {
          "base_uri": "https://localhost:8080/"
        },
        "id": "34d642ed-2a62-4e11-80fc-9f41cc0b6fc0",
        "outputId": "f659a9a8-dcb4-4ffe-c19b-2a046c24aacb"
      },
      "outputs": [
        {
          "data": {
            "text/plain": [
              "(1337, 7)"
            ]
          },
          "execution_count": 17,
          "metadata": {},
          "output_type": "execute_result"
        }
      ],
      "source": [
        "df_cleaned.shape"
      ]
    },
    {
      "cell_type": "code",
      "execution_count": 18,
      "id": "6c39f212-c253-4a5f-82f0-9527d0c38bc4",
      "metadata": {
        "colab": {
          "base_uri": "https://localhost:8080/"
        },
        "id": "6c39f212-c253-4a5f-82f0-9527d0c38bc4",
        "outputId": "d683692c-ac18-42dd-edc0-601bf20977dd"
      },
      "outputs": [
        {
          "name": "stdout",
          "output_type": "stream",
          "text": [
            "Missing Values:\n",
            " age         0\n",
            "sex         0\n",
            "bmi         0\n",
            "children    0\n",
            "smoker      0\n",
            "region      0\n",
            "charges     0\n",
            "dtype: int64\n"
          ]
        }
      ],
      "source": [
        "print(\"Missing Values:\\n\", df_cleaned.isnull().sum())"
      ]
    },
    {
      "cell_type": "code",
      "execution_count": 19,
      "id": "88441d71-7c6a-4617-b312-e7dea0a952be",
      "metadata": {
        "colab": {
          "base_uri": "https://localhost:8080/"
        },
        "id": "88441d71-7c6a-4617-b312-e7dea0a952be",
        "outputId": "4576892f-1510-40b6-95cf-fb81076f633a"
      },
      "outputs": [
        {
          "name": "stdout",
          "output_type": "stream",
          "text": [
            "\n",
            "Data Types:\n",
            " age           int64\n",
            "sex          object\n",
            "bmi         float64\n",
            "children      int64\n",
            "smoker       object\n",
            "region       object\n",
            "charges     float64\n",
            "dtype: object\n"
          ]
        }
      ],
      "source": [
        "print(\"\\nData Types:\\n\", df_cleaned.dtypes)"
      ]
    },
    {
      "cell_type": "code",
      "execution_count": 20,
      "id": "53f3f58e-77e2-4a44-b5f6-102d15bf34e2",
      "metadata": {
        "colab": {
          "base_uri": "https://localhost:8080/",
          "height": 178
        },
        "id": "53f3f58e-77e2-4a44-b5f6-102d15bf34e2",
        "outputId": "9637a67d-5cd6-4222-d585-324af3e40c8b"
      },
      "outputs": [
        {
          "data": {
            "text/plain": [
              "sex\n",
              "male      675\n",
              "female    662\n",
              "Name: count, dtype: int64"
            ]
          },
          "execution_count": 20,
          "metadata": {},
          "output_type": "execute_result"
        }
      ],
      "source": [
        "df_cleaned['sex'].value_counts()"
      ]
    },
    {
      "cell_type": "code",
      "execution_count": 21,
      "id": "815f14f8-7a03-4682-9f05-5f520ee007b2",
      "metadata": {
        "id": "815f14f8-7a03-4682-9f05-5f520ee007b2"
      },
      "outputs": [],
      "source": [
        "df_cleaned['sex'] = df_cleaned['sex'].map({'male': 0, 'female': 1})"
      ]
    },
    {
      "cell_type": "code",
      "execution_count": 22,
      "id": "223ed3c1-b02f-48ab-a3cb-fd77c0be4c08",
      "metadata": {
        "colab": {
          "base_uri": "https://localhost:8080/",
          "height": 178
        },
        "id": "223ed3c1-b02f-48ab-a3cb-fd77c0be4c08",
        "outputId": "b9e081ab-3348-4e90-d62b-b5bb0decab5f"
      },
      "outputs": [
        {
          "data": {
            "text/plain": [
              "smoker\n",
              "no     1063\n",
              "yes     274\n",
              "Name: count, dtype: int64"
            ]
          },
          "execution_count": 22,
          "metadata": {},
          "output_type": "execute_result"
        }
      ],
      "source": [
        "df_cleaned['smoker'].value_counts()"
      ]
    },
    {
      "cell_type": "code",
      "execution_count": 23,
      "id": "55032a9a-cce0-4849-a367-718002e0b82e",
      "metadata": {
        "id": "55032a9a-cce0-4849-a367-718002e0b82e"
      },
      "outputs": [],
      "source": [
        "df_cleaned['smoker'] = df_cleaned['smoker'].map({'no': 0, 'yes': 1})"
      ]
    },
    {
      "cell_type": "code",
      "execution_count": 24,
      "id": "96294689-7d50-4253-b02c-59ac459d94cf",
      "metadata": {
        "colab": {
          "base_uri": "https://localhost:8080/",
          "height": 206
        },
        "id": "96294689-7d50-4253-b02c-59ac459d94cf",
        "outputId": "8d0f62d1-cfe5-4caa-da7a-9171eadb8444"
      },
      "outputs": [
        {
          "data": {
            "text/html": [
              "<div>\n",
              "<style scoped>\n",
              "    .dataframe tbody tr th:only-of-type {\n",
              "        vertical-align: middle;\n",
              "    }\n",
              "\n",
              "    .dataframe tbody tr th {\n",
              "        vertical-align: top;\n",
              "    }\n",
              "\n",
              "    .dataframe thead th {\n",
              "        text-align: right;\n",
              "    }\n",
              "</style>\n",
              "<table border=\"1\" class=\"dataframe\">\n",
              "  <thead>\n",
              "    <tr style=\"text-align: right;\">\n",
              "      <th></th>\n",
              "      <th>age</th>\n",
              "      <th>sex</th>\n",
              "      <th>bmi</th>\n",
              "      <th>children</th>\n",
              "      <th>smoker</th>\n",
              "      <th>region</th>\n",
              "      <th>charges</th>\n",
              "    </tr>\n",
              "  </thead>\n",
              "  <tbody>\n",
              "    <tr>\n",
              "      <th>0</th>\n",
              "      <td>19</td>\n",
              "      <td>1</td>\n",
              "      <td>27.900</td>\n",
              "      <td>0</td>\n",
              "      <td>1</td>\n",
              "      <td>southwest</td>\n",
              "      <td>16884.92400</td>\n",
              "    </tr>\n",
              "    <tr>\n",
              "      <th>1</th>\n",
              "      <td>18</td>\n",
              "      <td>0</td>\n",
              "      <td>33.770</td>\n",
              "      <td>1</td>\n",
              "      <td>0</td>\n",
              "      <td>southeast</td>\n",
              "      <td>1725.55230</td>\n",
              "    </tr>\n",
              "    <tr>\n",
              "      <th>2</th>\n",
              "      <td>28</td>\n",
              "      <td>0</td>\n",
              "      <td>33.000</td>\n",
              "      <td>3</td>\n",
              "      <td>0</td>\n",
              "      <td>southeast</td>\n",
              "      <td>4449.46200</td>\n",
              "    </tr>\n",
              "    <tr>\n",
              "      <th>3</th>\n",
              "      <td>33</td>\n",
              "      <td>0</td>\n",
              "      <td>22.705</td>\n",
              "      <td>0</td>\n",
              "      <td>0</td>\n",
              "      <td>northwest</td>\n",
              "      <td>21984.47061</td>\n",
              "    </tr>\n",
              "    <tr>\n",
              "      <th>4</th>\n",
              "      <td>32</td>\n",
              "      <td>0</td>\n",
              "      <td>28.880</td>\n",
              "      <td>0</td>\n",
              "      <td>0</td>\n",
              "      <td>northwest</td>\n",
              "      <td>3866.85520</td>\n",
              "    </tr>\n",
              "  </tbody>\n",
              "</table>\n",
              "</div>"
            ],
            "text/plain": [
              "   age  sex     bmi  children  smoker     region      charges\n",
              "0   19    1  27.900         0       1  southwest  16884.92400\n",
              "1   18    0  33.770         1       0  southeast   1725.55230\n",
              "2   28    0  33.000         3       0  southeast   4449.46200\n",
              "3   33    0  22.705         0       0  northwest  21984.47061\n",
              "4   32    0  28.880         0       0  northwest   3866.85520"
            ]
          },
          "execution_count": 24,
          "metadata": {},
          "output_type": "execute_result"
        }
      ],
      "source": [
        "df_cleaned.head()"
      ]
    },
    {
      "cell_type": "code",
      "execution_count": 25,
      "id": "ec15381b-8941-408a-98b8-c77be0ed3d4d",
      "metadata": {
        "id": "ec15381b-8941-408a-98b8-c77be0ed3d4d"
      },
      "outputs": [],
      "source": [
        "df_cleaned.rename(columns={\n",
        "    'sex': 'is_female',\n",
        "    'smoker': 'is_smoker'\n",
        "}, inplace=True)"
      ]
    },
    {
      "cell_type": "code",
      "execution_count": 26,
      "id": "24121513-8eb5-4655-9a97-56360a4fd90c",
      "metadata": {
        "id": "24121513-8eb5-4655-9a97-56360a4fd90c"
      },
      "outputs": [
        {
          "data": {
            "text/html": [
              "<div>\n",
              "<style scoped>\n",
              "    .dataframe tbody tr th:only-of-type {\n",
              "        vertical-align: middle;\n",
              "    }\n",
              "\n",
              "    .dataframe tbody tr th {\n",
              "        vertical-align: top;\n",
              "    }\n",
              "\n",
              "    .dataframe thead th {\n",
              "        text-align: right;\n",
              "    }\n",
              "</style>\n",
              "<table border=\"1\" class=\"dataframe\">\n",
              "  <thead>\n",
              "    <tr style=\"text-align: right;\">\n",
              "      <th></th>\n",
              "      <th>age</th>\n",
              "      <th>is_female</th>\n",
              "      <th>bmi</th>\n",
              "      <th>children</th>\n",
              "      <th>is_smoker</th>\n",
              "      <th>charges</th>\n",
              "      <th>region_northwest</th>\n",
              "      <th>region_southeast</th>\n",
              "      <th>region_southwest</th>\n",
              "    </tr>\n",
              "  </thead>\n",
              "  <tbody>\n",
              "    <tr>\n",
              "      <th>0</th>\n",
              "      <td>19</td>\n",
              "      <td>1</td>\n",
              "      <td>27.900</td>\n",
              "      <td>0</td>\n",
              "      <td>1</td>\n",
              "      <td>16884.92400</td>\n",
              "      <td>False</td>\n",
              "      <td>False</td>\n",
              "      <td>True</td>\n",
              "    </tr>\n",
              "    <tr>\n",
              "      <th>1</th>\n",
              "      <td>18</td>\n",
              "      <td>0</td>\n",
              "      <td>33.770</td>\n",
              "      <td>1</td>\n",
              "      <td>0</td>\n",
              "      <td>1725.55230</td>\n",
              "      <td>False</td>\n",
              "      <td>True</td>\n",
              "      <td>False</td>\n",
              "    </tr>\n",
              "    <tr>\n",
              "      <th>2</th>\n",
              "      <td>28</td>\n",
              "      <td>0</td>\n",
              "      <td>33.000</td>\n",
              "      <td>3</td>\n",
              "      <td>0</td>\n",
              "      <td>4449.46200</td>\n",
              "      <td>False</td>\n",
              "      <td>True</td>\n",
              "      <td>False</td>\n",
              "    </tr>\n",
              "    <tr>\n",
              "      <th>3</th>\n",
              "      <td>33</td>\n",
              "      <td>0</td>\n",
              "      <td>22.705</td>\n",
              "      <td>0</td>\n",
              "      <td>0</td>\n",
              "      <td>21984.47061</td>\n",
              "      <td>True</td>\n",
              "      <td>False</td>\n",
              "      <td>False</td>\n",
              "    </tr>\n",
              "    <tr>\n",
              "      <th>4</th>\n",
              "      <td>32</td>\n",
              "      <td>0</td>\n",
              "      <td>28.880</td>\n",
              "      <td>0</td>\n",
              "      <td>0</td>\n",
              "      <td>3866.85520</td>\n",
              "      <td>True</td>\n",
              "      <td>False</td>\n",
              "      <td>False</td>\n",
              "    </tr>\n",
              "    <tr>\n",
              "      <th>...</th>\n",
              "      <td>...</td>\n",
              "      <td>...</td>\n",
              "      <td>...</td>\n",
              "      <td>...</td>\n",
              "      <td>...</td>\n",
              "      <td>...</td>\n",
              "      <td>...</td>\n",
              "      <td>...</td>\n",
              "      <td>...</td>\n",
              "    </tr>\n",
              "    <tr>\n",
              "      <th>1333</th>\n",
              "      <td>50</td>\n",
              "      <td>0</td>\n",
              "      <td>30.970</td>\n",
              "      <td>3</td>\n",
              "      <td>0</td>\n",
              "      <td>10600.54830</td>\n",
              "      <td>True</td>\n",
              "      <td>False</td>\n",
              "      <td>False</td>\n",
              "    </tr>\n",
              "    <tr>\n",
              "      <th>1334</th>\n",
              "      <td>18</td>\n",
              "      <td>1</td>\n",
              "      <td>31.920</td>\n",
              "      <td>0</td>\n",
              "      <td>0</td>\n",
              "      <td>2205.98080</td>\n",
              "      <td>False</td>\n",
              "      <td>False</td>\n",
              "      <td>False</td>\n",
              "    </tr>\n",
              "    <tr>\n",
              "      <th>1335</th>\n",
              "      <td>18</td>\n",
              "      <td>1</td>\n",
              "      <td>36.850</td>\n",
              "      <td>0</td>\n",
              "      <td>0</td>\n",
              "      <td>1629.83350</td>\n",
              "      <td>False</td>\n",
              "      <td>True</td>\n",
              "      <td>False</td>\n",
              "    </tr>\n",
              "    <tr>\n",
              "      <th>1336</th>\n",
              "      <td>21</td>\n",
              "      <td>1</td>\n",
              "      <td>25.800</td>\n",
              "      <td>0</td>\n",
              "      <td>0</td>\n",
              "      <td>2007.94500</td>\n",
              "      <td>False</td>\n",
              "      <td>False</td>\n",
              "      <td>True</td>\n",
              "    </tr>\n",
              "    <tr>\n",
              "      <th>1337</th>\n",
              "      <td>61</td>\n",
              "      <td>1</td>\n",
              "      <td>29.070</td>\n",
              "      <td>0</td>\n",
              "      <td>1</td>\n",
              "      <td>29141.36030</td>\n",
              "      <td>True</td>\n",
              "      <td>False</td>\n",
              "      <td>False</td>\n",
              "    </tr>\n",
              "  </tbody>\n",
              "</table>\n",
              "<p>1337 rows × 9 columns</p>\n",
              "</div>"
            ],
            "text/plain": [
              "      age  is_female     bmi  children  is_smoker      charges  \\\n",
              "0      19          1  27.900         0          1  16884.92400   \n",
              "1      18          0  33.770         1          0   1725.55230   \n",
              "2      28          0  33.000         3          0   4449.46200   \n",
              "3      33          0  22.705         0          0  21984.47061   \n",
              "4      32          0  28.880         0          0   3866.85520   \n",
              "...   ...        ...     ...       ...        ...          ...   \n",
              "1333   50          0  30.970         3          0  10600.54830   \n",
              "1334   18          1  31.920         0          0   2205.98080   \n",
              "1335   18          1  36.850         0          0   1629.83350   \n",
              "1336   21          1  25.800         0          0   2007.94500   \n",
              "1337   61          1  29.070         0          1  29141.36030   \n",
              "\n",
              "      region_northwest  region_southeast  region_southwest  \n",
              "0                False             False              True  \n",
              "1                False              True             False  \n",
              "2                False              True             False  \n",
              "3                 True             False             False  \n",
              "4                 True             False             False  \n",
              "...                ...               ...               ...  \n",
              "1333              True             False             False  \n",
              "1334             False             False             False  \n",
              "1335             False              True             False  \n",
              "1336             False             False              True  \n",
              "1337              True             False             False  \n",
              "\n",
              "[1337 rows x 9 columns]"
            ]
          },
          "execution_count": 26,
          "metadata": {},
          "output_type": "execute_result"
        }
      ],
      "source": [
        "df_cleaned = pd.get_dummies(df_cleaned, columns=['region'], drop_first=True)\n",
        "df_cleaned"
      ]
    },
    {
      "cell_type": "code",
      "execution_count": 27,
      "id": "ec6e35b1-8878-4ddf-ae8d-1ff2fb3fc50e",
      "metadata": {
        "id": "ec6e35b1-8878-4ddf-ae8d-1ff2fb3fc50e"
      },
      "outputs": [],
      "source": [
        "df_cleaned = df_cleaned.astype(int)"
      ]
    },
    {
      "cell_type": "markdown",
      "id": "5b9b3aff-0b50-4c31-97d0-7a996e8328c5",
      "metadata": {
        "id": "5b9b3aff-0b50-4c31-97d0-7a996e8328c5"
      },
      "source": [
        "# Feature Engineering and Extraction"
      ]
    },
    {
      "cell_type": "code",
      "execution_count": 28,
      "id": "472497a7-0a96-4ce3-8232-d5b9b7c2b599",
      "metadata": {
        "colab": {
          "base_uri": "https://localhost:8080/",
          "height": 467
        },
        "id": "472497a7-0a96-4ce3-8232-d5b9b7c2b599",
        "outputId": "487a780f-5e83-4636-ba48-65283ca3ac2c"
      },
      "outputs": [
        {
          "data": {
            "text/plain": [
              "<Axes: xlabel='bmi', ylabel='Count'>"
            ]
          },
          "execution_count": 28,
          "metadata": {},
          "output_type": "execute_result"
        },
        {
          "data": {
            "image/png": "[encoded data removed]",
            "text/plain": [
              "<Figure size 640x480 with 1 Axes>"
            ]
          },
          "metadata": {},
          "output_type": "display_data"
        }
      ],
      "source": [
        "sns.histplot(df_cleaned['bmi'])"
      ]
    },
    {
      "cell_type": "code",
      "execution_count": 29,
      "id": "44da5af4-bb00-4e36-86cf-2caab436d226",
      "metadata": {
        "id": "44da5af4-bb00-4e36-86cf-2caab436d226"
      },
      "outputs": [],
      "source": [
        "df_cleaned['bmi_category'] = pd.cut(\n",
        "    df_cleaned['bmi'],\n",
        "    bins=[0, 18.5, 24.9, 29.9, float('inf')],\n",
        "    labels=['Underweight', 'Normal', 'Overweight', 'Obese']\n",
        ")"
      ]
    },
    {
      "cell_type": "code",
      "execution_count": 30,
      "id": "4602b3c0-1676-42a6-a616-c622edf668aa",
      "metadata": {
        "colab": {
          "base_uri": "https://localhost:8080/",
          "height": 424
        },
        "id": "4602b3c0-1676-42a6-a616-c622edf668aa",
        "outputId": "4116069b-4666-4da0-eea4-8f346e3b028a"
      },
      "outputs": [
        {
          "data": {
            "text/html": [
              "<div>\n",
              "<style scoped>\n",
              "    .dataframe tbody tr th:only-of-type {\n",
              "        vertical-align: middle;\n",
              "    }\n",
              "\n",
              "    .dataframe tbody tr th {\n",
              "        vertical-align: top;\n",
              "    }\n",
              "\n",
              "    .dataframe thead th {\n",
              "        text-align: right;\n",
              "    }\n",
              "</style>\n",
              "<table border=\"1\" class=\"dataframe\">\n",
              "  <thead>\n",
              "    <tr style=\"text-align: right;\">\n",
              "      <th></th>\n",
              "      <th>age</th>\n",
              "      <th>is_female</th>\n",
              "      <th>bmi</th>\n",
              "      <th>children</th>\n",
              "      <th>is_smoker</th>\n",
              "      <th>charges</th>\n",
              "      <th>region_northwest</th>\n",
              "      <th>region_southeast</th>\n",
              "      <th>region_southwest</th>\n",
              "      <th>bmi_category</th>\n",
              "    </tr>\n",
              "  </thead>\n",
              "  <tbody>\n",
              "    <tr>\n",
              "      <th>0</th>\n",
              "      <td>19</td>\n",
              "      <td>1</td>\n",
              "      <td>27</td>\n",
              "      <td>0</td>\n",
              "      <td>1</td>\n",
              "      <td>16884</td>\n",
              "      <td>0</td>\n",
              "      <td>0</td>\n",
              "      <td>1</td>\n",
              "      <td>Overweight</td>\n",
              "    </tr>\n",
              "    <tr>\n",
              "      <th>1</th>\n",
              "      <td>18</td>\n",
              "      <td>0</td>\n",
              "      <td>33</td>\n",
              "      <td>1</td>\n",
              "      <td>0</td>\n",
              "      <td>1725</td>\n",
              "      <td>0</td>\n",
              "      <td>1</td>\n",
              "      <td>0</td>\n",
              "      <td>Obese</td>\n",
              "    </tr>\n",
              "    <tr>\n",
              "      <th>2</th>\n",
              "      <td>28</td>\n",
              "      <td>0</td>\n",
              "      <td>33</td>\n",
              "      <td>3</td>\n",
              "      <td>0</td>\n",
              "      <td>4449</td>\n",
              "      <td>0</td>\n",
              "      <td>1</td>\n",
              "      <td>0</td>\n",
              "      <td>Obese</td>\n",
              "    </tr>\n",
              "    <tr>\n",
              "      <th>3</th>\n",
              "      <td>33</td>\n",
              "      <td>0</td>\n",
              "      <td>22</td>\n",
              "      <td>0</td>\n",
              "      <td>0</td>\n",
              "      <td>21984</td>\n",
              "      <td>1</td>\n",
              "      <td>0</td>\n",
              "      <td>0</td>\n",
              "      <td>Normal</td>\n",
              "    </tr>\n",
              "    <tr>\n",
              "      <th>4</th>\n",
              "      <td>32</td>\n",
              "      <td>0</td>\n",
              "      <td>28</td>\n",
              "      <td>0</td>\n",
              "      <td>0</td>\n",
              "      <td>3866</td>\n",
              "      <td>1</td>\n",
              "      <td>0</td>\n",
              "      <td>0</td>\n",
              "      <td>Overweight</td>\n",
              "    </tr>\n",
              "    <tr>\n",
              "      <th>...</th>\n",
              "      <td>...</td>\n",
              "      <td>...</td>\n",
              "      <td>...</td>\n",
              "      <td>...</td>\n",
              "      <td>...</td>\n",
              "      <td>...</td>\n",
              "      <td>...</td>\n",
              "      <td>...</td>\n",
              "      <td>...</td>\n",
              "      <td>...</td>\n",
              "    </tr>\n",
              "    <tr>\n",
              "      <th>1333</th>\n",
              "      <td>50</td>\n",
              "      <td>0</td>\n",
              "      <td>30</td>\n",
              "      <td>3</td>\n",
              "      <td>0</td>\n",
              "      <td>10600</td>\n",
              "      <td>1</td>\n",
              "      <td>0</td>\n",
              "      <td>0</td>\n",
              "      <td>Obese</td>\n",
              "    </tr>\n",
              "    <tr>\n",
              "      <th>1334</th>\n",
              "      <td>18</td>\n",
              "      <td>1</td>\n",
              "      <td>31</td>\n",
              "      <td>0</td>\n",
              "      <td>0</td>\n",
              "      <td>2205</td>\n",
              "      <td>0</td>\n",
              "      <td>0</td>\n",
              "      <td>0</td>\n",
              "      <td>Obese</td>\n",
              "    </tr>\n",
              "    <tr>\n",
              "      <th>1335</th>\n",
              "      <td>18</td>\n",
              "      <td>1</td>\n",
              "      <td>36</td>\n",
              "      <td>0</td>\n",
              "      <td>0</td>\n",
              "      <td>1629</td>\n",
              "      <td>0</td>\n",
              "      <td>1</td>\n",
              "      <td>0</td>\n",
              "      <td>Obese</td>\n",
              "    </tr>\n",
              "    <tr>\n",
              "      <th>1336</th>\n",
              "      <td>21</td>\n",
              "      <td>1</td>\n",
              "      <td>25</td>\n",
              "      <td>0</td>\n",
              "      <td>0</td>\n",
              "      <td>2007</td>\n",
              "      <td>0</td>\n",
              "      <td>0</td>\n",
              "      <td>1</td>\n",
              "      <td>Overweight</td>\n",
              "    </tr>\n",
              "    <tr>\n",
              "      <th>1337</th>\n",
              "      <td>61</td>\n",
              "      <td>1</td>\n",
              "      <td>29</td>\n",
              "      <td>0</td>\n",
              "      <td>1</td>\n",
              "      <td>29141</td>\n",
              "      <td>1</td>\n",
              "      <td>0</td>\n",
              "      <td>0</td>\n",
              "      <td>Overweight</td>\n",
              "    </tr>\n",
              "  </tbody>\n",
              "</table>\n",
              "<p>1337 rows × 10 columns</p>\n",
              "</div>"
            ],
            "text/plain": [
              "      age  is_female  bmi  children  is_smoker  charges  region_northwest  \\\n",
              "0      19          1   27         0          1    16884                 0   \n",
              "1      18          0   33         1          0     1725                 0   \n",
              "2      28          0   33         3          0     4449                 0   \n",
              "3      33          0   22         0          0    21984                 1   \n",
              "4      32          0   28         0          0     3866                 1   \n",
              "...   ...        ...  ...       ...        ...      ...               ...   \n",
              "1333   50          0   30         3          0    10600                 1   \n",
              "1334   18          1   31         0          0     2205                 0   \n",
              "1335   18          1   36         0          0     1629                 0   \n",
              "1336   21          1   25         0          0     2007                 0   \n",
              "1337   61          1   29         0          1    29141                 1   \n",
              "\n",
              "      region_southeast  region_southwest bmi_category  \n",
              "0                    0                 1   Overweight  \n",
              "1                    1                 0        Obese  \n",
              "2                    1                 0        Obese  \n",
              "3                    0                 0       Normal  \n",
              "4                    0                 0   Overweight  \n",
              "...                ...               ...          ...  \n",
              "1333                 0                 0        Obese  \n",
              "1334                 0                 0        Obese  \n",
              "1335                 1                 0        Obese  \n",
              "1336                 0                 1   Overweight  \n",
              "1337                 0                 0   Overweight  \n",
              "\n",
              "[1337 rows x 10 columns]"
            ]
          },
          "execution_count": 30,
          "metadata": {},
          "output_type": "execute_result"
        }
      ],
      "source": [
        "df_cleaned"
      ]
    },
    {
      "cell_type": "code",
      "execution_count": 31,
      "id": "4b857b41-ee00-405c-b970-1812d6f8fab7",
      "metadata": {
        "id": "4b857b41-ee00-405c-b970-1812d6f8fab7"
      },
      "outputs": [],
      "source": [
        "df_cleaned = pd.get_dummies(df_cleaned, columns=['bmi_category'], drop_first=True)"
      ]
    },
    {
      "cell_type": "code",
      "execution_count": 32,
      "id": "bd1433aa-befb-45dc-83ea-f96ed1cf5547",
      "metadata": {
        "id": "bd1433aa-befb-45dc-83ea-f96ed1cf5547"
      },
      "outputs": [
        {
          "data": {
            "text/html": [
              "<div>\n",
              "<style scoped>\n",
              "    .dataframe tbody tr th:only-of-type {\n",
              "        vertical-align: middle;\n",
              "    }\n",
              "\n",
              "    .dataframe tbody tr th {\n",
              "        vertical-align: top;\n",
              "    }\n",
              "\n",
              "    .dataframe thead th {\n",
              "        text-align: right;\n",
              "    }\n",
              "</style>\n",
              "<table border=\"1\" class=\"dataframe\">\n",
              "  <thead>\n",
              "    <tr style=\"text-align: right;\">\n",
              "      <th></th>\n",
              "      <th>age</th>\n",
              "      <th>is_female</th>\n",
              "      <th>bmi</th>\n",
              "      <th>children</th>\n",
              "      <th>is_smoker</th>\n",
              "      <th>charges</th>\n",
              "      <th>region_northwest</th>\n",
              "      <th>region_southeast</th>\n",
              "      <th>region_southwest</th>\n",
              "      <th>bmi_category_Normal</th>\n",
              "      <th>bmi_category_Overweight</th>\n",
              "      <th>bmi_category_Obese</th>\n",
              "    </tr>\n",
              "  </thead>\n",
              "  <tbody>\n",
              "    <tr>\n",
              "      <th>0</th>\n",
              "      <td>19</td>\n",
              "      <td>1</td>\n",
              "      <td>27</td>\n",
              "      <td>0</td>\n",
              "      <td>1</td>\n",
              "      <td>16884</td>\n",
              "      <td>0</td>\n",
              "      <td>0</td>\n",
              "      <td>1</td>\n",
              "      <td>0</td>\n",
              "      <td>1</td>\n",
              "      <td>0</td>\n",
              "    </tr>\n",
              "    <tr>\n",
              "      <th>1</th>\n",
              "      <td>18</td>\n",
              "      <td>0</td>\n",
              "      <td>33</td>\n",
              "      <td>1</td>\n",
              "      <td>0</td>\n",
              "      <td>1725</td>\n",
              "      <td>0</td>\n",
              "      <td>1</td>\n",
              "      <td>0</td>\n",
              "      <td>0</td>\n",
              "      <td>0</td>\n",
              "      <td>1</td>\n",
              "    </tr>\n",
              "    <tr>\n",
              "      <th>2</th>\n",
              "      <td>28</td>\n",
              "      <td>0</td>\n",
              "      <td>33</td>\n",
              "      <td>3</td>\n",
              "      <td>0</td>\n",
              "      <td>4449</td>\n",
              "      <td>0</td>\n",
              "      <td>1</td>\n",
              "      <td>0</td>\n",
              "      <td>0</td>\n",
              "      <td>0</td>\n",
              "      <td>1</td>\n",
              "    </tr>\n",
              "    <tr>\n",
              "      <th>3</th>\n",
              "      <td>33</td>\n",
              "      <td>0</td>\n",
              "      <td>22</td>\n",
              "      <td>0</td>\n",
              "      <td>0</td>\n",
              "      <td>21984</td>\n",
              "      <td>1</td>\n",
              "      <td>0</td>\n",
              "      <td>0</td>\n",
              "      <td>1</td>\n",
              "      <td>0</td>\n",
              "      <td>0</td>\n",
              "    </tr>\n",
              "    <tr>\n",
              "      <th>4</th>\n",
              "      <td>32</td>\n",
              "      <td>0</td>\n",
              "      <td>28</td>\n",
              "      <td>0</td>\n",
              "      <td>0</td>\n",
              "      <td>3866</td>\n",
              "      <td>1</td>\n",
              "      <td>0</td>\n",
              "      <td>0</td>\n",
              "      <td>0</td>\n",
              "      <td>1</td>\n",
              "      <td>0</td>\n",
              "    </tr>\n",
              "    <tr>\n",
              "      <th>...</th>\n",
              "      <td>...</td>\n",
              "      <td>...</td>\n",
              "      <td>...</td>\n",
              "      <td>...</td>\n",
              "      <td>...</td>\n",
              "      <td>...</td>\n",
              "      <td>...</td>\n",
              "      <td>...</td>\n",
              "      <td>...</td>\n",
              "      <td>...</td>\n",
              "      <td>...</td>\n",
              "      <td>...</td>\n",
              "    </tr>\n",
              "    <tr>\n",
              "      <th>1333</th>\n",
              "      <td>50</td>\n",
              "      <td>0</td>\n",
              "      <td>30</td>\n",
              "      <td>3</td>\n",
              "      <td>0</td>\n",
              "      <td>10600</td>\n",
              "      <td>1</td>\n",
              "      <td>0</td>\n",
              "      <td>0</td>\n",
              "      <td>0</td>\n",
              "      <td>0</td>\n",
              "      <td>1</td>\n",
              "    </tr>\n",
              "    <tr>\n",
              "      <th>1334</th>\n",
              "      <td>18</td>\n",
              "      <td>1</td>\n",
              "      <td>31</td>\n",
              "      <td>0</td>\n",
              "      <td>0</td>\n",
              "      <td>2205</td>\n",
              "      <td>0</td>\n",
              "      <td>0</td>\n",
              "      <td>0</td>\n",
              "      <td>0</td>\n",
              "      <td>0</td>\n",
              "      <td>1</td>\n",
              "    </tr>\n",
              "    <tr>\n",
              "      <th>1335</th>\n",
              "      <td>18</td>\n",
              "      <td>1</td>\n",
              "      <td>36</td>\n",
              "      <td>0</td>\n",
              "      <td>0</td>\n",
              "      <td>1629</td>\n",
              "      <td>0</td>\n",
              "      <td>1</td>\n",
              "      <td>0</td>\n",
              "      <td>0</td>\n",
              "      <td>0</td>\n",
              "      <td>1</td>\n",
              "    </tr>\n",
              "    <tr>\n",
              "      <th>1336</th>\n",
              "      <td>21</td>\n",
              "      <td>1</td>\n",
              "      <td>25</td>\n",
              "      <td>0</td>\n",
              "      <td>0</td>\n",
              "      <td>2007</td>\n",
              "      <td>0</td>\n",
              "      <td>0</td>\n",
              "      <td>1</td>\n",
              "      <td>0</td>\n",
              "      <td>1</td>\n",
              "      <td>0</td>\n",
              "    </tr>\n",
              "    <tr>\n",
              "      <th>1337</th>\n",
              "      <td>61</td>\n",
              "      <td>1</td>\n",
              "      <td>29</td>\n",
              "      <td>0</td>\n",
              "      <td>1</td>\n",
              "      <td>29141</td>\n",
              "      <td>1</td>\n",
              "      <td>0</td>\n",
              "      <td>0</td>\n",
              "      <td>0</td>\n",
              "      <td>1</td>\n",
              "      <td>0</td>\n",
              "    </tr>\n",
              "  </tbody>\n",
              "</table>\n",
              "<p>1337 rows × 12 columns</p>\n",
              "</div>"
            ],
            "text/plain": [
              "      age  is_female  bmi  children  is_smoker  charges  region_northwest  \\\n",
              "0      19          1   27         0          1    16884                 0   \n",
              "1      18          0   33         1          0     1725                 0   \n",
              "2      28          0   33         3          0     4449                 0   \n",
              "3      33          0   22         0          0    21984                 1   \n",
              "4      32          0   28         0          0     3866                 1   \n",
              "...   ...        ...  ...       ...        ...      ...               ...   \n",
              "1333   50          0   30         3          0    10600                 1   \n",
              "1334   18          1   31         0          0     2205                 0   \n",
              "1335   18          1   36         0          0     1629                 0   \n",
              "1336   21          1   25         0          0     2007                 0   \n",
              "1337   61          1   29         0          1    29141                 1   \n",
              "\n",
              "      region_southeast  region_southwest  bmi_category_Normal  \\\n",
              "0                    0                 1                    0   \n",
              "1                    1                 0                    0   \n",
              "2                    1                 0                    0   \n",
              "3                    0                 0                    1   \n",
              "4                    0                 0                    0   \n",
              "...                ...               ...                  ...   \n",
              "1333                 0                 0                    0   \n",
              "1334                 0                 0                    0   \n",
              "1335                 1                 0                    0   \n",
              "1336                 0                 1                    0   \n",
              "1337                 0                 0                    0   \n",
              "\n",
              "      bmi_category_Overweight  bmi_category_Obese  \n",
              "0                           1                   0  \n",
              "1                           0                   1  \n",
              "2                           0                   1  \n",
              "3                           0                   0  \n",
              "4                           1                   0  \n",
              "...                       ...                 ...  \n",
              "1333                        0                   1  \n",
              "1334                        0                   1  \n",
              "1335                        0                   1  \n",
              "1336                        1                   0  \n",
              "1337                        1                   0  \n",
              "\n",
              "[1337 rows x 12 columns]"
            ]
          },
          "execution_count": 32,
          "metadata": {},
          "output_type": "execute_result"
        }
      ],
      "source": [
        "df_cleaned = df_cleaned.astype(int)\n",
        "df_cleaned"
      ]
    },
    {
      "cell_type": "markdown",
      "id": "2fd7890a-03ea-431f-a742-ff4915424d5f",
      "metadata": {
        "id": "2fd7890a-03ea-431f-a742-ff4915424d5f"
      },
      "source": [
        "You should scale when you are using ML models that are sensitive to the magnitude of features:\n",
        "\n",
        "Model Type\tRequires Scaling?\n",
        "Logistic Regression\t✅ Yes\n",
        "Linear Regression\t✅ Yes\n",
        "KNN (K-Nearest Neighbors)\t✅ Yes\n",
        "SVM (Support Vector Machine)\t✅ Yes\n",
        "PCA\t✅ Yes\n",
        "Neural Networks\t✅ Yes\n",
        "\n",
        "❌ Scaling not required for:\n",
        "\n",
        "Model Type\tWhy?\n",
        "Decision Trees\tBased on splits, not distances\n",
        "Random Forest\tSame — tree-based\n",
        "XGBoost / LightGBM\tInternally handles scaling"
      ]
    },
    {
      "cell_type": "code",
      "execution_count": 33,
      "id": "5a0972b7-84e0-4e70-be17-94d4b0e4e5af",
      "metadata": {
        "colab": {
          "base_uri": "https://localhost:8080/"
        },
        "id": "5a0972b7-84e0-4e70-be17-94d4b0e4e5af",
        "outputId": "e0877f6f-1a33-4223-d43f-69b923447972"
      },
      "outputs": [
        {
          "data": {
            "text/plain": [
              "Index(['age', 'is_female', 'bmi', 'children', 'is_smoker', 'charges',\n",
              "       'region_northwest', 'region_southeast', 'region_southwest',\n",
              "       'bmi_category_Normal', 'bmi_category_Overweight', 'bmi_category_Obese'],\n",
              "      dtype='object')"
            ]
          },
          "execution_count": 33,
          "metadata": {},
          "output_type": "execute_result"
        }
      ],
      "source": [
        "df_cleaned.columns"
      ]
    },
    {
      "cell_type": "code",
      "execution_count": 34,
      "id": "aaf09acb-3e70-4f9d-bd6c-9faeafa7cbca",
      "metadata": {
        "id": "aaf09acb-3e70-4f9d-bd6c-9faeafa7cbca"
      },
      "outputs": [],
      "source": [
        "from sklearn.preprocessing import StandardScaler\n",
        "\n",
        "cols_to_scale = ['age', 'bmi', 'children']\n",
        "scaler = StandardScaler()\n",
        "df_cleaned[cols_to_scale] = scaler.fit_transform(df_cleaned[cols_to_scale])"
      ]
    },
    {
      "cell_type": "code",
      "execution_count": 35,
      "id": "be11e5cd-9afc-4b65-bb46-a1386d46beaa",
      "metadata": {
        "colab": {
          "base_uri": "https://localhost:8080/",
          "height": 226
        },
        "id": "be11e5cd-9afc-4b65-bb46-a1386d46beaa",
        "outputId": "f860fdde-ce77-4294-f2c1-d6b6427e521b"
      },
      "outputs": [
        {
          "data": {
            "text/html": [
              "<div>\n",
              "<style scoped>\n",
              "    .dataframe tbody tr th:only-of-type {\n",
              "        vertical-align: middle;\n",
              "    }\n",
              "\n",
              "    .dataframe tbody tr th {\n",
              "        vertical-align: top;\n",
              "    }\n",
              "\n",
              "    .dataframe thead th {\n",
              "        text-align: right;\n",
              "    }\n",
              "</style>\n",
              "<table border=\"1\" class=\"dataframe\">\n",
              "  <thead>\n",
              "    <tr style=\"text-align: right;\">\n",
              "      <th></th>\n",
              "      <th>age</th>\n",
              "      <th>is_female</th>\n",
              "      <th>bmi</th>\n",
              "      <th>children</th>\n",
              "      <th>is_smoker</th>\n",
              "      <th>charges</th>\n",
              "      <th>region_northwest</th>\n",
              "      <th>region_southeast</th>\n",
              "      <th>region_southwest</th>\n",
              "      <th>bmi_category_Normal</th>\n",
              "      <th>bmi_category_Overweight</th>\n",
              "      <th>bmi_category_Obese</th>\n",
              "    </tr>\n",
              "  </thead>\n",
              "  <tbody>\n",
              "    <tr>\n",
              "      <th>0</th>\n",
              "      <td>-1.440418</td>\n",
              "      <td>1</td>\n",
              "      <td>-0.517949</td>\n",
              "      <td>-0.909234</td>\n",
              "      <td>1</td>\n",
              "      <td>16884</td>\n",
              "      <td>0</td>\n",
              "      <td>0</td>\n",
              "      <td>1</td>\n",
              "      <td>0</td>\n",
              "      <td>1</td>\n",
              "      <td>0</td>\n",
              "    </tr>\n",
              "    <tr>\n",
              "      <th>1</th>\n",
              "      <td>-1.511647</td>\n",
              "      <td>0</td>\n",
              "      <td>0.462463</td>\n",
              "      <td>-0.079442</td>\n",
              "      <td>0</td>\n",
              "      <td>1725</td>\n",
              "      <td>0</td>\n",
              "      <td>1</td>\n",
              "      <td>0</td>\n",
              "      <td>0</td>\n",
              "      <td>0</td>\n",
              "      <td>1</td>\n",
              "    </tr>\n",
              "    <tr>\n",
              "      <th>2</th>\n",
              "      <td>-0.799350</td>\n",
              "      <td>0</td>\n",
              "      <td>0.462463</td>\n",
              "      <td>1.580143</td>\n",
              "      <td>0</td>\n",
              "      <td>4449</td>\n",
              "      <td>0</td>\n",
              "      <td>1</td>\n",
              "      <td>0</td>\n",
              "      <td>0</td>\n",
              "      <td>0</td>\n",
              "      <td>1</td>\n",
              "    </tr>\n",
              "    <tr>\n",
              "      <th>3</th>\n",
              "      <td>-0.443201</td>\n",
              "      <td>0</td>\n",
              "      <td>-1.334960</td>\n",
              "      <td>-0.909234</td>\n",
              "      <td>0</td>\n",
              "      <td>21984</td>\n",
              "      <td>1</td>\n",
              "      <td>0</td>\n",
              "      <td>0</td>\n",
              "      <td>1</td>\n",
              "      <td>0</td>\n",
              "      <td>0</td>\n",
              "    </tr>\n",
              "    <tr>\n",
              "      <th>4</th>\n",
              "      <td>-0.514431</td>\n",
              "      <td>0</td>\n",
              "      <td>-0.354547</td>\n",
              "      <td>-0.909234</td>\n",
              "      <td>0</td>\n",
              "      <td>3866</td>\n",
              "      <td>1</td>\n",
              "      <td>0</td>\n",
              "      <td>0</td>\n",
              "      <td>0</td>\n",
              "      <td>1</td>\n",
              "      <td>0</td>\n",
              "    </tr>\n",
              "  </tbody>\n",
              "</table>\n",
              "</div>"
            ],
            "text/plain": [
              "        age  is_female       bmi  children  is_smoker  charges  \\\n",
              "0 -1.440418          1 -0.517949 -0.909234          1    16884   \n",
              "1 -1.511647          0  0.462463 -0.079442          0     1725   \n",
              "2 -0.799350          0  0.462463  1.580143          0     4449   \n",
              "3 -0.443201          0 -1.334960 -0.909234          0    21984   \n",
              "4 -0.514431          0 -0.354547 -0.909234          0     3866   \n",
              "\n",
              "   region_northwest  region_southeast  region_southwest  bmi_category_Normal  \\\n",
              "0                 0                 0                 1                    0   \n",
              "1                 0                 1                 0                    0   \n",
              "2                 0                 1                 0                    0   \n",
              "3                 1                 0                 0                    1   \n",
              "4                 1                 0                 0                    0   \n",
              "\n",
              "   bmi_category_Overweight  bmi_category_Obese  \n",
              "0                        1                   0  \n",
              "1                        0                   1  \n",
              "2                        0                   1  \n",
              "3                        0                   0  \n",
              "4                        1                   0  "
            ]
          },
          "execution_count": 35,
          "metadata": {},
          "output_type": "execute_result"
        }
      ],
      "source": [
        "df_cleaned.head()"
      ]
    },
    {
      "cell_type": "code",
      "execution_count": 36,
      "id": "06e13682-2b2d-43fd-8b21-827dc45419fb",
      "metadata": {
        "colab": {
          "base_uri": "https://localhost:8080/",
          "height": 394
        },
        "id": "06e13682-2b2d-43fd-8b21-827dc45419fb",
        "outputId": "21f2b3e0-f479-4546-86b5-447fe9d05197"
      },
      "outputs": [
        {
          "data": {
            "text/html": [
              "<div>\n",
              "<style scoped>\n",
              "    .dataframe tbody tr th:only-of-type {\n",
              "        vertical-align: middle;\n",
              "    }\n",
              "\n",
              "    .dataframe tbody tr th {\n",
              "        vertical-align: top;\n",
              "    }\n",
              "\n",
              "    .dataframe thead th {\n",
              "        text-align: right;\n",
              "    }\n",
              "</style>\n",
              "<table border=\"1\" class=\"dataframe\">\n",
              "  <thead>\n",
              "    <tr style=\"text-align: right;\">\n",
              "      <th></th>\n",
              "      <th>Feature</th>\n",
              "      <th>Pearson Correlation</th>\n",
              "    </tr>\n",
              "  </thead>\n",
              "  <tbody>\n",
              "    <tr>\n",
              "      <th>4</th>\n",
              "      <td>is_smoker</td>\n",
              "      <td>0.787234</td>\n",
              "    </tr>\n",
              "    <tr>\n",
              "      <th>0</th>\n",
              "      <td>age</td>\n",
              "      <td>0.298309</td>\n",
              "    </tr>\n",
              "    <tr>\n",
              "      <th>10</th>\n",
              "      <td>bmi_category_Obese</td>\n",
              "      <td>0.200348</td>\n",
              "    </tr>\n",
              "    <tr>\n",
              "      <th>1</th>\n",
              "      <td>bmi</td>\n",
              "      <td>0.196236</td>\n",
              "    </tr>\n",
              "    <tr>\n",
              "      <th>6</th>\n",
              "      <td>region_southeast</td>\n",
              "      <td>0.073577</td>\n",
              "    </tr>\n",
              "    <tr>\n",
              "      <th>2</th>\n",
              "      <td>children</td>\n",
              "      <td>0.067390</td>\n",
              "    </tr>\n",
              "    <tr>\n",
              "      <th>5</th>\n",
              "      <td>region_northwest</td>\n",
              "      <td>-0.038695</td>\n",
              "    </tr>\n",
              "    <tr>\n",
              "      <th>7</th>\n",
              "      <td>region_southwest</td>\n",
              "      <td>-0.043637</td>\n",
              "    </tr>\n",
              "    <tr>\n",
              "      <th>3</th>\n",
              "      <td>is_female</td>\n",
              "      <td>-0.058046</td>\n",
              "    </tr>\n",
              "    <tr>\n",
              "      <th>8</th>\n",
              "      <td>bmi_category_Normal</td>\n",
              "      <td>-0.104042</td>\n",
              "    </tr>\n",
              "    <tr>\n",
              "      <th>9</th>\n",
              "      <td>bmi_category_Overweight</td>\n",
              "      <td>-0.120601</td>\n",
              "    </tr>\n",
              "  </tbody>\n",
              "</table>\n",
              "</div>"
            ],
            "text/plain": [
              "                    Feature  Pearson Correlation\n",
              "4                 is_smoker             0.787234\n",
              "0                       age             0.298309\n",
              "10       bmi_category_Obese             0.200348\n",
              "1                       bmi             0.196236\n",
              "6          region_southeast             0.073577\n",
              "2                  children             0.067390\n",
              "5          region_northwest            -0.038695\n",
              "7          region_southwest            -0.043637\n",
              "3                 is_female            -0.058046\n",
              "8       bmi_category_Normal            -0.104042\n",
              "9   bmi_category_Overweight            -0.120601"
            ]
          },
          "execution_count": 36,
          "metadata": {},
          "output_type": "execute_result"
        }
      ],
      "source": [
        "\n",
        "from scipy.stats import pearsonr\n",
        "\n",
        "# ----------------------------------\n",
        "# Pearson Correlation Calculation\n",
        "# ----------------------------------\n",
        "\n",
        "# List of features to check against target\n",
        "selected_features = [\n",
        "    'age', 'bmi', 'children', 'is_female', 'is_smoker',\n",
        "    'region_northwest', 'region_southeast', 'region_southwest',\n",
        "    'bmi_category_Normal', 'bmi_category_Overweight', 'bmi_category_Obese'\n",
        "]\n",
        "\n",
        "# Calculate Pearson correlation\n",
        "correlations = {\n",
        "    feature: pearsonr(df_cleaned[feature], df_cleaned['charges'])[0]\n",
        "    for feature in selected_features\n",
        "}\n",
        "\n",
        "# Convert to DataFrame for display\n",
        "correlation_df = pd.DataFrame(list(correlations.items()), columns=['Feature', 'Pearson Correlation'])\n",
        "\n",
        "# Show the results\n",
        "correlation_df.sort_values(by='Pearson Correlation', ascending=False)"
      ]
    },
    {
      "cell_type": "code",
      "execution_count": 37,
      "id": "648fa992-564d-44f6-9d8d-b8da296f61a0",
      "metadata": {
        "id": "648fa992-564d-44f6-9d8d-b8da296f61a0"
      },
      "outputs": [],
      "source": [
        "cat_features = [\n",
        "    'is_female', 'is_smoker',\n",
        "    'region_northwest', 'region_southeast', 'region_southwest',\n",
        "    'bmi_category_Normal', 'bmi_category_Overweight', 'bmi_category_Obese'\n",
        "]"
      ]
    },
    {
      "cell_type": "code",
      "execution_count": 38,
      "id": "09a1d490-972d-43e7-a4a0-d757811ed19a",
      "metadata": {
        "colab": {
          "base_uri": "https://localhost:8080/",
          "height": 300
        },
        "id": "09a1d490-972d-43e7-a4a0-d757811ed19a",
        "outputId": "a14aafb6-c1b7-4570-f6b0-2739ac4e5526"
      },
      "outputs": [
        {
          "data": {
            "text/html": [
              "<div>\n",
              "<style scoped>\n",
              "    .dataframe tbody tr th:only-of-type {\n",
              "        vertical-align: middle;\n",
              "    }\n",
              "\n",
              "    .dataframe tbody tr th {\n",
              "        vertical-align: top;\n",
              "    }\n",
              "\n",
              "    .dataframe thead th {\n",
              "        text-align: right;\n",
              "    }\n",
              "</style>\n",
              "<table border=\"1\" class=\"dataframe\">\n",
              "  <thead>\n",
              "    <tr style=\"text-align: right;\">\n",
              "      <th></th>\n",
              "      <th>chi2_statistic</th>\n",
              "      <th>p_value</th>\n",
              "      <th>Decision</th>\n",
              "    </tr>\n",
              "  </thead>\n",
              "  <tbody>\n",
              "    <tr>\n",
              "      <th>is_smoker</th>\n",
              "      <td>848.219178</td>\n",
              "      <td>0.0</td>\n",
              "      <td>Reject Null (Keep Feature)</td>\n",
              "    </tr>\n",
              "    <tr>\n",
              "      <th>region_southeast</th>\n",
              "      <td>15.998167</td>\n",
              "      <td>0.001135</td>\n",
              "      <td>Reject Null (Keep Feature)</td>\n",
              "    </tr>\n",
              "    <tr>\n",
              "      <th>is_female</th>\n",
              "      <td>10.258784</td>\n",
              "      <td>0.01649</td>\n",
              "      <td>Reject Null (Keep Feature)</td>\n",
              "    </tr>\n",
              "    <tr>\n",
              "      <th>bmi_category_Obese</th>\n",
              "      <td>8.515711</td>\n",
              "      <td>0.036473</td>\n",
              "      <td>Reject Null (Keep Feature)</td>\n",
              "    </tr>\n",
              "    <tr>\n",
              "      <th>region_southwest</th>\n",
              "      <td>5.091893</td>\n",
              "      <td>0.165191</td>\n",
              "      <td>Accept Null (Drop Feature)</td>\n",
              "    </tr>\n",
              "    <tr>\n",
              "      <th>bmi_category_Overweight</th>\n",
              "      <td>4.25149</td>\n",
              "      <td>0.235557</td>\n",
              "      <td>Accept Null (Drop Feature)</td>\n",
              "    </tr>\n",
              "    <tr>\n",
              "      <th>bmi_category_Normal</th>\n",
              "      <td>3.708088</td>\n",
              "      <td>0.29476</td>\n",
              "      <td>Accept Null (Drop Feature)</td>\n",
              "    </tr>\n",
              "    <tr>\n",
              "      <th>region_northwest</th>\n",
              "      <td>1.13424</td>\n",
              "      <td>0.768815</td>\n",
              "      <td>Accept Null (Drop Feature)</td>\n",
              "    </tr>\n",
              "  </tbody>\n",
              "</table>\n",
              "</div>"
            ],
            "text/plain": [
              "                        chi2_statistic   p_value                    Decision\n",
              "is_smoker                   848.219178       0.0  Reject Null (Keep Feature)\n",
              "region_southeast             15.998167  0.001135  Reject Null (Keep Feature)\n",
              "is_female                    10.258784   0.01649  Reject Null (Keep Feature)\n",
              "bmi_category_Obese            8.515711  0.036473  Reject Null (Keep Feature)\n",
              "region_southwest              5.091893  0.165191  Accept Null (Drop Feature)\n",
              "bmi_category_Overweight        4.25149  0.235557  Accept Null (Drop Feature)\n",
              "bmi_category_Normal           3.708088   0.29476  Accept Null (Drop Feature)\n",
              "region_northwest               1.13424  0.768815  Accept Null (Drop Feature)"
            ]
          },
          "execution_count": 38,
          "metadata": {},
          "output_type": "execute_result"
        }
      ],
      "source": [
        "from scipy.stats import chi2_contingency\n",
        "import pandas as pd\n",
        "\n",
        "# Define significance level\n",
        "alpha = 0.05\n",
        "\n",
        "# Bin the target variable\n",
        "df_cleaned['charges_bin'] = pd.qcut(df_cleaned['charges'], q=4, labels=False)\n",
        "\n",
        "# Run Chi-Square test\n",
        "chi2_results = {}\n",
        "\n",
        "for col in cat_features:\n",
        "    contingency = pd.crosstab(df_cleaned[col], df_cleaned['charges_bin'])\n",
        "    chi2_stat, p_val, _, _ = chi2_contingency(contingency)\n",
        "    decision = 'Reject Null (Keep Feature)' if p_val < alpha else 'Accept Null (Drop Feature)'\n",
        "    chi2_results[col] = {\n",
        "        'chi2_statistic': chi2_stat,\n",
        "        'p_value': p_val,\n",
        "        'Decision': decision\n",
        "    }\n",
        "\n",
        "# Convert to DataFrame\n",
        "chi2_df = pd.DataFrame(chi2_results).T\n",
        "chi2_df = chi2_df.sort_values(by='p_value')\n",
        "chi2_df\n"
      ]
    },
    {
      "cell_type": "code",
      "execution_count": 39,
      "id": "0edfba0f-2e76-41fb-b722-d40e7eac0ce0",
      "metadata": {
        "colab": {
          "base_uri": "https://localhost:8080/"
        },
        "id": "0edfba0f-2e76-41fb-b722-d40e7eac0ce0",
        "outputId": "5656ffc7-efb5-4436-840a-9412022e00bf"
      },
      "outputs": [
        {
          "data": {
            "text/plain": [
              "Index(['age', 'is_female', 'bmi', 'children', 'is_smoker', 'charges',\n",
              "       'region_northwest', 'region_southeast', 'region_southwest',\n",
              "       'bmi_category_Normal', 'bmi_category_Overweight', 'bmi_category_Obese',\n",
              "       'charges_bin'],\n",
              "      dtype='object')"
            ]
          },
          "execution_count": 39,
          "metadata": {},
          "output_type": "execute_result"
        }
      ],
      "source": [
        "df_cleaned.columns"
      ]
    },
    {
      "cell_type": "code",
      "execution_count": 40,
      "id": "e369ec22-4c2b-4aea-94a9-46c2764a2f8f",
      "metadata": {
        "id": "e369ec22-4c2b-4aea-94a9-46c2764a2f8f"
      },
      "outputs": [],
      "source": [
        "final_df = df_cleaned[['age', 'is_female', 'bmi', 'children', 'is_smoker', 'charges','region_southeast','bmi_category_Obese','region_northwest']]"
      ]
    },
    {
      "cell_type": "code",
      "execution_count": 41,
      "id": "e135328b-8061-412c-9bb4-b099a3e90f08",
      "metadata": {
        "colab": {
          "base_uri": "https://localhost:8080/",
          "height": 424
        },
        "id": "e135328b-8061-412c-9bb4-b099a3e90f08",
        "outputId": "45eb5924-9a84-4167-86af-dd2b5d010d57"
      },
      "outputs": [
        {
          "data": {
            "text/html": [
              "<div>\n",
              "<style scoped>\n",
              "    .dataframe tbody tr th:only-of-type {\n",
              "        vertical-align: middle;\n",
              "    }\n",
              "\n",
              "    .dataframe tbody tr th {\n",
              "        vertical-align: top;\n",
              "    }\n",
              "\n",
              "    .dataframe thead th {\n",
              "        text-align: right;\n",
              "    }\n",
              "</style>\n",
              "<table border=\"1\" class=\"dataframe\">\n",
              "  <thead>\n",
              "    <tr style=\"text-align: right;\">\n",
              "      <th></th>\n",
              "      <th>age</th>\n",
              "      <th>is_female</th>\n",
              "      <th>bmi</th>\n",
              "      <th>children</th>\n",
              "      <th>is_smoker</th>\n",
              "      <th>charges</th>\n",
              "      <th>region_southeast</th>\n",
              "      <th>bmi_category_Obese</th>\n",
              "      <th>region_northwest</th>\n",
              "    </tr>\n",
              "  </thead>\n",
              "  <tbody>\n",
              "    <tr>\n",
              "      <th>0</th>\n",
              "      <td>-1.440418</td>\n",
              "      <td>1</td>\n",
              "      <td>-0.517949</td>\n",
              "      <td>-0.909234</td>\n",
              "      <td>1</td>\n",
              "      <td>16884</td>\n",
              "      <td>0</td>\n",
              "      <td>0</td>\n",
              "      <td>0</td>\n",
              "    </tr>\n",
              "    <tr>\n",
              "      <th>1</th>\n",
              "      <td>-1.511647</td>\n",
              "      <td>0</td>\n",
              "      <td>0.462463</td>\n",
              "      <td>-0.079442</td>\n",
              "      <td>0</td>\n",
              "      <td>1725</td>\n",
              "      <td>1</td>\n",
              "      <td>1</td>\n",
              "      <td>0</td>\n",
              "    </tr>\n",
              "    <tr>\n",
              "      <th>2</th>\n",
              "      <td>-0.799350</td>\n",
              "      <td>0</td>\n",
              "      <td>0.462463</td>\n",
              "      <td>1.580143</td>\n",
              "      <td>0</td>\n",
              "      <td>4449</td>\n",
              "      <td>1</td>\n",
              "      <td>1</td>\n",
              "      <td>0</td>\n",
              "    </tr>\n",
              "    <tr>\n",
              "      <th>3</th>\n",
              "      <td>-0.443201</td>\n",
              "      <td>0</td>\n",
              "      <td>-1.334960</td>\n",
              "      <td>-0.909234</td>\n",
              "      <td>0</td>\n",
              "      <td>21984</td>\n",
              "      <td>0</td>\n",
              "      <td>0</td>\n",
              "      <td>1</td>\n",
              "    </tr>\n",
              "    <tr>\n",
              "      <th>4</th>\n",
              "      <td>-0.514431</td>\n",
              "      <td>0</td>\n",
              "      <td>-0.354547</td>\n",
              "      <td>-0.909234</td>\n",
              "      <td>0</td>\n",
              "      <td>3866</td>\n",
              "      <td>0</td>\n",
              "      <td>0</td>\n",
              "      <td>1</td>\n",
              "    </tr>\n",
              "    <tr>\n",
              "      <th>...</th>\n",
              "      <td>...</td>\n",
              "      <td>...</td>\n",
              "      <td>...</td>\n",
              "      <td>...</td>\n",
              "      <td>...</td>\n",
              "      <td>...</td>\n",
              "      <td>...</td>\n",
              "      <td>...</td>\n",
              "      <td>...</td>\n",
              "    </tr>\n",
              "    <tr>\n",
              "      <th>1333</th>\n",
              "      <td>0.767704</td>\n",
              "      <td>0</td>\n",
              "      <td>-0.027743</td>\n",
              "      <td>1.580143</td>\n",
              "      <td>0</td>\n",
              "      <td>10600</td>\n",
              "      <td>0</td>\n",
              "      <td>1</td>\n",
              "      <td>1</td>\n",
              "    </tr>\n",
              "    <tr>\n",
              "      <th>1334</th>\n",
              "      <td>-1.511647</td>\n",
              "      <td>1</td>\n",
              "      <td>0.135659</td>\n",
              "      <td>-0.909234</td>\n",
              "      <td>0</td>\n",
              "      <td>2205</td>\n",
              "      <td>0</td>\n",
              "      <td>1</td>\n",
              "      <td>0</td>\n",
              "    </tr>\n",
              "    <tr>\n",
              "      <th>1335</th>\n",
              "      <td>-1.511647</td>\n",
              "      <td>1</td>\n",
              "      <td>0.952670</td>\n",
              "      <td>-0.909234</td>\n",
              "      <td>0</td>\n",
              "      <td>1629</td>\n",
              "      <td>1</td>\n",
              "      <td>1</td>\n",
              "      <td>0</td>\n",
              "    </tr>\n",
              "    <tr>\n",
              "      <th>1336</th>\n",
              "      <td>-1.297958</td>\n",
              "      <td>1</td>\n",
              "      <td>-0.844753</td>\n",
              "      <td>-0.909234</td>\n",
              "      <td>0</td>\n",
              "      <td>2007</td>\n",
              "      <td>0</td>\n",
              "      <td>0</td>\n",
              "      <td>0</td>\n",
              "    </tr>\n",
              "    <tr>\n",
              "      <th>1337</th>\n",
              "      <td>1.551231</td>\n",
              "      <td>1</td>\n",
              "      <td>-0.191145</td>\n",
              "      <td>-0.909234</td>\n",
              "      <td>1</td>\n",
              "      <td>29141</td>\n",
              "      <td>0</td>\n",
              "      <td>0</td>\n",
              "      <td>1</td>\n",
              "    </tr>\n",
              "  </tbody>\n",
              "</table>\n",
              "<p>1337 rows × 9 columns</p>\n",
              "</div>"
            ],
            "text/plain": [
              "           age  is_female       bmi  children  is_smoker  charges  \\\n",
              "0    -1.440418          1 -0.517949 -0.909234          1    16884   \n",
              "1    -1.511647          0  0.462463 -0.079442          0     1725   \n",
              "2    -0.799350          0  0.462463  1.580143          0     4449   \n",
              "3    -0.443201          0 -1.334960 -0.909234          0    21984   \n",
              "4    -0.514431          0 -0.354547 -0.909234          0     3866   \n",
              "...        ...        ...       ...       ...        ...      ...   \n",
              "1333  0.767704          0 -0.027743  1.580143          0    10600   \n",
              "1334 -1.511647          1  0.135659 -0.909234          0     2205   \n",
              "1335 -1.511647          1  0.952670 -0.909234          0     1629   \n",
              "1336 -1.297958          1 -0.844753 -0.909234          0     2007   \n",
              "1337  1.551231          1 -0.191145 -0.909234          1    29141   \n",
              "\n",
              "      region_southeast  bmi_category_Obese  region_northwest  \n",
              "0                    0                   0                 0  \n",
              "1                    1                   1                 0  \n",
              "2                    1                   1                 0  \n",
              "3                    0                   0                 1  \n",
              "4                    0                   0                 1  \n",
              "...                ...                 ...               ...  \n",
              "1333                 0                   1                 1  \n",
              "1334                 0                   1                 0  \n",
              "1335                 1                   1                 0  \n",
              "1336                 0                   0                 0  \n",
              "1337                 0                   0                 1  \n",
              "\n",
              "[1337 rows x 9 columns]"
            ]
          },
          "execution_count": 41,
          "metadata": {},
          "output_type": "execute_result"
        }
      ],
      "source": [
        "final_df"
      ]
    },
    {
      "cell_type": "code",
      "execution_count": 42,
      "id": "cb552d10-ead0-4775-9491-f1beb76265aa",
      "metadata": {
        "id": "cb552d10-ead0-4775-9491-f1beb76265aa"
      },
      "outputs": [],
      "source": [
        "from sklearn.model_selection import train_test_split\n"
      ]
    },
    {
      "cell_type": "code",
      "execution_count": 43,
      "id": "Z2QdkUy3tpez",
      "metadata": {
        "id": "Z2QdkUy3tpez"
      },
      "outputs": [],
      "source": [
        "X = final_df.drop('charges', axis=1)\n",
        "y = final_df['charges']"
      ]
    },
    {
      "cell_type": "code",
      "execution_count": 44,
      "id": "Zu8kio9mtrr2",
      "metadata": {
        "id": "Zu8kio9mtrr2"
      },
      "outputs": [],
      "source": [
        "X_train, X_test, y_train, y_test = train_test_split(X, y, test_size=0.20, random_state=42)"
      ]
    },
    {
      "cell_type": "code",
      "execution_count": 45,
      "id": "bd1e89da-da0a-47e7-a734-520adb28bb89",
      "metadata": {
        "id": "bd1e89da-da0a-47e7-a734-520adb28bb89"
      },
      "outputs": [],
      "source": [
        "from sklearn.linear_model import LinearRegression"
      ]
    },
    {
      "cell_type": "code",
      "execution_count": 46,
      "id": "Fwlu55tCnyNS",
      "metadata": {
        "colab": {
          "base_uri": "https://localhost:8080/",
          "height": 80
        },
        "id": "Fwlu55tCnyNS",
        "outputId": "ba3b92ca-da90-492f-81f6-1a542e570302"
      },
      "outputs": [
        {
          "data": {
            "text/html": [
              "<style>#sk-container-id-1 {\n",
              "  /* Definition of color scheme common for light and dark mode */\n",
              "  --sklearn-color-text: black;\n",
              "  --sklearn-color-line: gray;\n",
              "  /* Definition of color scheme for unfitted estimators */\n",
              "  --sklearn-color-unfitted-level-0: #fff5e6;\n",
              "  --sklearn-color-unfitted-level-1: #f6e4d2;\n",
              "  --sklearn-color-unfitted-level-2: #ffe0b3;\n",
              "  --sklearn-color-unfitted-level-3: chocolate;\n",
              "  /* Definition of color scheme for fitted estimators */\n",
              "  --sklearn-color-fitted-level-0: #f0f8ff;\n",
              "  --sklearn-color-fitted-level-1: #d4ebff;\n",
              "  --sklearn-color-fitted-level-2: #b3dbfd;\n",
              "  --sklearn-color-fitted-level-3: cornflowerblue;\n",
              "\n",
              "  /* Specific color for light theme */\n",
              "  --sklearn-color-text-on-default-background: var(--sg-text-color, var(--theme-code-foreground, var(--jp-content-font-color1, black)));\n",
              "  --sklearn-color-background: var(--sg-background-color, var(--theme-background, var(--jp-layout-color0, white)));\n",
              "  --sklearn-color-border-box: var(--sg-text-color, var(--theme-code-foreground, var(--jp-content-font-color1, black)));\n",
              "  --sklearn-color-icon: #696969;\n",
              "\n",
              "  @media (prefers-color-scheme: dark) {\n",
              "    /* Redefinition of color scheme for dark theme */\n",
              "    --sklearn-color-text-on-default-background: var(--sg-text-color, var(--theme-code-foreground, var(--jp-content-font-color1, white)));\n",
              "    --sklearn-color-background: var(--sg-background-color, var(--theme-background, var(--jp-layout-color0, #111)));\n",
              "    --sklearn-color-border-box: var(--sg-text-color, var(--theme-code-foreground, var(--jp-content-font-color1, white)));\n",
              "    --sklearn-color-icon: #878787;\n",
              "  }\n",
              "}\n",
              "\n",
              "#sk-container-id-1 {\n",
              "  color: var(--sklearn-color-text);\n",
              "}\n",
              "\n",
              "#sk-container-id-1 pre {\n",
              "  padding: 0;\n",
              "}\n",
              "\n",
              "#sk-container-id-1 input.sk-hidden--visually {\n",
              "  border: 0;\n",
              "  clip: rect(1px 1px 1px 1px);\n",
              "  clip: rect(1px, 1px, 1px, 1px);\n",
              "  height: 1px;\n",
              "  margin: -1px;\n",
              "  overflow: hidden;\n",
              "  padding: 0;\n",
              "  position: absolute;\n",
              "  width: 1px;\n",
              "}\n",
              "\n",
              "#sk-container-id-1 div.sk-dashed-wrapped {\n",
              "  border: 1px dashed var(--sklearn-color-line);\n",
              "  margin: 0 0.4em 0.5em 0.4em;\n",
              "  box-sizing: border-box;\n",
              "  padding-bottom: 0.4em;\n",
              "  background-color: var(--sklearn-color-background);\n",
              "}\n",
              "\n",
              "#sk-container-id-1 div.sk-container {\n",
              "  /* jupyter's `normalize.less` sets `[hidden] { display: none; }`\n",
              "     but bootstrap.min.css set `[hidden] { display: none !important; }`\n",
              "     so we also need the `!important` here to be able to override the\n",
              "     default hidden behavior on the sphinx rendered scikit-learn.org.\n",
              "     See: https://github.com/scikit-learn/scikit-learn/issues/21755 */\n",
              "  display: inline-block !important;\n",
              "  position: relative;\n",
              "}\n",
              "\n",
              "#sk-container-id-1 div.sk-text-repr-fallback {\n",
              "  display: none;\n",
              "}\n",
              "\n",
              "div.sk-parallel-item,\n",
              "div.sk-serial,\n",
              "div.sk-item {\n",
              "  /* draw centered vertical line to link estimators */\n",
              "  background-image: linear-gradient(var(--sklearn-color-text-on-default-background), var(--sklearn-color-text-on-default-background));\n",
              "  background-size: 2px 100%;\n",
              "  background-repeat: no-repeat;\n",
              "  background-position: center center;\n",
              "}\n",
              "\n",
              "/* Parallel-specific style estimator block */\n",
              "\n",
              "#sk-container-id-1 div.sk-parallel-item::after {\n",
              "  content: \"\";\n",
              "  width: 100%;\n",
              "  border-bottom: 2px solid var(--sklearn-color-text-on-default-background);\n",
              "  flex-grow: 1;\n",
              "}\n",
              "\n",
              "#sk-container-id-1 div.sk-parallel {\n",
              "  display: flex;\n",
              "  align-items: stretch;\n",
              "  justify-content: center;\n",
              "  background-color: var(--sklearn-color-background);\n",
              "  position: relative;\n",
              "}\n",
              "\n",
              "#sk-container-id-1 div.sk-parallel-item {\n",
              "  display: flex;\n",
              "  flex-direction: column;\n",
              "}\n",
              "\n",
              "#sk-container-id-1 div.sk-parallel-item:first-child::after {\n",
              "  align-self: flex-end;\n",
              "  width: 50%;\n",
              "}\n",
              "\n",
              "#sk-container-id-1 div.sk-parallel-item:last-child::after {\n",
              "  align-self: flex-start;\n",
              "  width: 50%;\n",
              "}\n",
              "\n",
              "#sk-container-id-1 div.sk-parallel-item:only-child::after {\n",
              "  width: 0;\n",
              "}\n",
              "\n",
              "/* Serial-specific style estimator block */\n",
              "\n",
              "#sk-container-id-1 div.sk-serial {\n",
              "  display: flex;\n",
              "  flex-direction: column;\n",
              "  align-items: center;\n",
              "  background-color: var(--sklearn-color-background);\n",
              "  padding-right: 1em;\n",
              "  padding-left: 1em;\n",
              "}\n",
              "\n",
              "\n",
              "/* Toggleable style: style used for estimator/Pipeline/ColumnTransformer box that is\n",
              "clickable and can be expanded/collapsed.\n",
              "- Pipeline and ColumnTransformer use this feature and define the default style\n",
              "- Estimators will overwrite some part of the style using the `sk-estimator` class\n",
              "*/\n",
              "\n",
              "/* Pipeline and ColumnTransformer style (default) */\n",
              "\n",
              "#sk-container-id-1 div.sk-toggleable {\n",
              "  /* Default theme specific background. It is overwritten whether we have a\n",
              "  specific estimator or a Pipeline/ColumnTransformer */\n",
              "  background-color: var(--sklearn-color-background);\n",
              "}\n",
              "\n",
              "/* Toggleable label */\n",
              "#sk-container-id-1 label.sk-toggleable__label {\n",
              "  cursor: pointer;\n",
              "  display: block;\n",
              "  width: 100%;\n",
              "  margin-bottom: 0;\n",
              "  padding: 0.5em;\n",
              "  box-sizing: border-box;\n",
              "  text-align: center;\n",
              "}\n",
              "\n",
              "#sk-container-id-1 label.sk-toggleable__label-arrow:before {\n",
              "  /* Arrow on the left of the label */\n",
              "  content: \"▸\";\n",
              "  float: left;\n",
              "  margin-right: 0.25em;\n",
              "  color: var(--sklearn-color-icon);\n",
              "}\n",
              "\n",
              "#sk-container-id-1 label.sk-toggleable__label-arrow:hover:before {\n",
              "  color: var(--sklearn-color-text);\n",
              "}\n",
              "\n",
              "/* Toggleable content - dropdown */\n",
              "\n",
              "#sk-container-id-1 div.sk-toggleable__content {\n",
              "  max-height: 0;\n",
              "  max-width: 0;\n",
              "  overflow: hidden;\n",
              "  text-align: left;\n",
              "  /* unfitted */\n",
              "  background-color: var(--sklearn-color-unfitted-level-0);\n",
              "}\n",
              "\n",
              "#sk-container-id-1 div.sk-toggleable__content.fitted {\n",
              "  /* fitted */\n",
              "  background-color: var(--sklearn-color-fitted-level-0);\n",
              "}\n",
              "\n",
              "#sk-container-id-1 div.sk-toggleable__content pre {\n",
              "  margin: 0.2em;\n",
              "  border-radius: 0.25em;\n",
              "  color: var(--sklearn-color-text);\n",
              "  /* unfitted */\n",
              "  background-color: var(--sklearn-color-unfitted-level-0);\n",
              "}\n",
              "\n",
              "#sk-container-id-1 div.sk-toggleable__content.fitted pre {\n",
              "  /* unfitted */\n",
              "  background-color: var(--sklearn-color-fitted-level-0);\n",
              "}\n",
              "\n",
              "#sk-container-id-1 input.sk-toggleable__control:checked~div.sk-toggleable__content {\n",
              "  /* Expand drop-down */\n",
              "  max-height: 200px;\n",
              "  max-width: 100%;\n",
              "  overflow: auto;\n",
              "}\n",
              "\n",
              "#sk-container-id-1 input.sk-toggleable__control:checked~label.sk-toggleable__label-arrow:before {\n",
              "  content: \"▾\";\n",
              "}\n",
              "\n",
              "/* Pipeline/ColumnTransformer-specific style */\n",
              "\n",
              "#sk-container-id-1 div.sk-label input.sk-toggleable__control:checked~label.sk-toggleable__label {\n",
              "  color: var(--sklearn-color-text);\n",
              "  background-color: var(--sklearn-color-unfitted-level-2);\n",
              "}\n",
              "\n",
              "#sk-container-id-1 div.sk-label.fitted input.sk-toggleable__control:checked~label.sk-toggleable__label {\n",
              "  background-color: var(--sklearn-color-fitted-level-2);\n",
              "}\n",
              "\n",
              "/* Estimator-specific style */\n",
              "\n",
              "/* Colorize estimator box */\n",
              "#sk-container-id-1 div.sk-estimator input.sk-toggleable__control:checked~label.sk-toggleable__label {\n",
              "  /* unfitted */\n",
              "  background-color: var(--sklearn-color-unfitted-level-2);\n",
              "}\n",
              "\n",
              "#sk-container-id-1 div.sk-estimator.fitted input.sk-toggleable__control:checked~label.sk-toggleable__label {\n",
              "  /* fitted */\n",
              "  background-color: var(--sklearn-color-fitted-level-2);\n",
              "}\n",
              "\n",
              "#sk-container-id-1 div.sk-label label.sk-toggleable__label,\n",
              "#sk-container-id-1 div.sk-label label {\n",
              "  /* The background is the default theme color */\n",
              "  color: var(--sklearn-color-text-on-default-background);\n",
              "}\n",
              "\n",
              "/* On hover, darken the color of the background */\n",
              "#sk-container-id-1 div.sk-label:hover label.sk-toggleable__label {\n",
              "  color: var(--sklearn-color-text);\n",
              "  background-color: var(--sklearn-color-unfitted-level-2);\n",
              "}\n",
              "\n",
              "/* Label box, darken color on hover, fitted */\n",
              "#sk-container-id-1 div.sk-label.fitted:hover label.sk-toggleable__label.fitted {\n",
              "  color: var(--sklearn-color-text);\n",
              "  background-color: var(--sklearn-color-fitted-level-2);\n",
              "}\n",
              "\n",
              "/* Estimator label */\n",
              "\n",
              "#sk-container-id-1 div.sk-label label {\n",
              "  font-family: monospace;\n",
              "  font-weight: bold;\n",
              "  display: inline-block;\n",
              "  line-height: 1.2em;\n",
              "}\n",
              "\n",
              "#sk-container-id-1 div.sk-label-container {\n",
              "  text-align: center;\n",
              "}\n",
              "\n",
              "/* Estimator-specific */\n",
              "#sk-container-id-1 div.sk-estimator {\n",
              "  font-family: monospace;\n",
              "  border: 1px dotted var(--sklearn-color-border-box);\n",
              "  border-radius: 0.25em;\n",
              "  box-sizing: border-box;\n",
              "  margin-bottom: 0.5em;\n",
              "  /* unfitted */\n",
              "  background-color: var(--sklearn-color-unfitted-level-0);\n",
              "}\n",
              "\n",
              "#sk-container-id-1 div.sk-estimator.fitted {\n",
              "  /* fitted */\n",
              "  background-color: var(--sklearn-color-fitted-level-0);\n",
              "}\n",
              "\n",
              "/* on hover */\n",
              "#sk-container-id-1 div.sk-estimator:hover {\n",
              "  /* unfitted */\n",
              "  background-color: var(--sklearn-color-unfitted-level-2);\n",
              "}\n",
              "\n",
              "#sk-container-id-1 div.sk-estimator.fitted:hover {\n",
              "  /* fitted */\n",
              "  background-color: var(--sklearn-color-fitted-level-2);\n",
              "}\n",
              "\n",
              "/* Specification for estimator info (e.g. \"i\" and \"?\") */\n",
              "\n",
              "/* Common style for \"i\" and \"?\" */\n",
              "\n",
              ".sk-estimator-doc-link,\n",
              "a:link.sk-estimator-doc-link,\n",
              "a:visited.sk-estimator-doc-link {\n",
              "  float: right;\n",
              "  font-size: smaller;\n",
              "  line-height: 1em;\n",
              "  font-family: monospace;\n",
              "  background-color: var(--sklearn-color-background);\n",
              "  border-radius: 1em;\n",
              "  height: 1em;\n",
              "  width: 1em;\n",
              "  text-decoration: none !important;\n",
              "  margin-left: 1ex;\n",
              "  /* unfitted */\n",
              "  border: var(--sklearn-color-unfitted-level-1) 1pt solid;\n",
              "  color: var(--sklearn-color-unfitted-level-1);\n",
              "}\n",
              "\n",
              ".sk-estimator-doc-link.fitted,\n",
              "a:link.sk-estimator-doc-link.fitted,\n",
              "a:visited.sk-estimator-doc-link.fitted {\n",
              "  /* fitted */\n",
              "  border: var(--sklearn-color-fitted-level-1) 1pt solid;\n",
              "  color: var(--sklearn-color-fitted-level-1);\n",
              "}\n",
              "\n",
              "/* On hover */\n",
              "div.sk-estimator:hover .sk-estimator-doc-link:hover,\n",
              ".sk-estimator-doc-link:hover,\n",
              "div.sk-label-container:hover .sk-estimator-doc-link:hover,\n",
              ".sk-estimator-doc-link:hover {\n",
              "  /* unfitted */\n",
              "  background-color: var(--sklearn-color-unfitted-level-3);\n",
              "  color: var(--sklearn-color-background);\n",
              "  text-decoration: none;\n",
              "}\n",
              "\n",
              "div.sk-estimator.fitted:hover .sk-estimator-doc-link.fitted:hover,\n",
              ".sk-estimator-doc-link.fitted:hover,\n",
              "div.sk-label-container:hover .sk-estimator-doc-link.fitted:hover,\n",
              ".sk-estimator-doc-link.fitted:hover {\n",
              "  /* fitted */\n",
              "  background-color: var(--sklearn-color-fitted-level-3);\n",
              "  color: var(--sklearn-color-background);\n",
              "  text-decoration: none;\n",
              "}\n",
              "\n",
              "/* Span, style for the box shown on hovering the info icon */\n",
              ".sk-estimator-doc-link span {\n",
              "  display: none;\n",
              "  z-index: 9999;\n",
              "  position: relative;\n",
              "  font-weight: normal;\n",
              "  right: .2ex;\n",
              "  padding: .5ex;\n",
              "  margin: .5ex;\n",
              "  width: min-content;\n",
              "  min-width: 20ex;\n",
              "  max-width: 50ex;\n",
              "  color: var(--sklearn-color-text);\n",
              "  box-shadow: 2pt 2pt 4pt #999;\n",
              "  /* unfitted */\n",
              "  background: var(--sklearn-color-unfitted-level-0);\n",
              "  border: .5pt solid var(--sklearn-color-unfitted-level-3);\n",
              "}\n",
              "\n",
              ".sk-estimator-doc-link.fitted span {\n",
              "  /* fitted */\n",
              "  background: var(--sklearn-color-fitted-level-0);\n",
              "  border: var(--sklearn-color-fitted-level-3);\n",
              "}\n",
              "\n",
              ".sk-estimator-doc-link:hover span {\n",
              "  display: block;\n",
              "}\n",
              "\n",
              "/* \"?\"-specific style due to the `<a>` HTML tag */\n",
              "\n",
              "#sk-container-id-1 a.estimator_doc_link {\n",
              "  float: right;\n",
              "  font-size: 1rem;\n",
              "  line-height: 1em;\n",
              "  font-family: monospace;\n",
              "  background-color: var(--sklearn-color-background);\n",
              "  border-radius: 1rem;\n",
              "  height: 1rem;\n",
              "  width: 1rem;\n",
              "  text-decoration: none;\n",
              "  /* unfitted */\n",
              "  color: var(--sklearn-color-unfitted-level-1);\n",
              "  border: var(--sklearn-color-unfitted-level-1) 1pt solid;\n",
              "}\n",
              "\n",
              "#sk-container-id-1 a.estimator_doc_link.fitted {\n",
              "  /* fitted */\n",
              "  border: var(--sklearn-color-fitted-level-1) 1pt solid;\n",
              "  color: var(--sklearn-color-fitted-level-1);\n",
              "}\n",
              "\n",
              "/* On hover */\n",
              "#sk-container-id-1 a.estimator_doc_link:hover {\n",
              "  /* unfitted */\n",
              "  background-color: var(--sklearn-color-unfitted-level-3);\n",
              "  color: var(--sklearn-color-background);\n",
              "  text-decoration: none;\n",
              "}\n",
              "\n",
              "#sk-container-id-1 a.estimator_doc_link.fitted:hover {\n",
              "  /* fitted */\n",
              "  background-color: var(--sklearn-color-fitted-level-3);\n",
              "}\n",
              "</style><div id=\"sk-container-id-1\" class=\"sk-top-container\"><div class=\"sk-text-repr-fallback\"><pre>LinearRegression()</pre><b>In a Jupyter environment, please rerun this cell to show the HTML representation or trust the notebook. <br />On GitHub, the HTML representation is unable to render, please try loading this page with nbviewer.org.</b></div><div class=\"sk-container\" hidden><div class=\"sk-item\"><div class=\"sk-estimator fitted sk-toggleable\"><input class=\"sk-toggleable__control sk-hidden--visually\" id=\"sk-estimator-id-1\" type=\"checkbox\" checked><label for=\"sk-estimator-id-1\" class=\"sk-toggleable__label fitted sk-toggleable__label-arrow fitted\">&nbsp;&nbsp;LinearRegression<a class=\"sk-estimator-doc-link fitted\" rel=\"noreferrer\" target=\"_blank\" href=\"https://scikit-learn.org/1.5/modules/generated/sklearn.linear_model.LinearRegression.html\">?<span>Documentation for LinearRegression</span></a><span class=\"sk-estimator-doc-link fitted\">i<span>Fitted</span></span></label><div class=\"sk-toggleable__content fitted\"><pre>LinearRegression()</pre></div> </div></div></div></div>"
            ],
            "text/plain": [
              "LinearRegression()"
            ]
          },
          "execution_count": 46,
          "metadata": {},
          "output_type": "execute_result"
        }
      ],
      "source": [
        "      # This is for (80%)TRAIN the model-X_train,y_train\n",
        "model = LinearRegression()\n",
        "model.fit(X_train,y_train)"
      ]
    },
    {
      "cell_type": "code",
      "execution_count": 47,
      "id": "xWbWlzG5n9Is",
      "metadata": {
        "id": "xWbWlzG5n9Is"
      },
      "outputs": [],
      "source": [
        "y_pred = model.predict(X_test)"
      ]
    },
    {
      "cell_type": "code",
      "execution_count": 48,
      "id": "a5d3a08b",
      "metadata": {},
      "outputs": [
        {
          "data": {
            "text/plain": [
              "array([ 7872.60430837,  5395.9756102 , 14583.12511214, 32435.14684602,\n",
              "        8956.02260947, 13337.05519493, 30212.76350939,  1418.90934563,\n",
              "       11196.68139874,  9989.72359987, 10788.50407611, 32112.9152209 ,\n",
              "       31564.48673015, 16243.87430021, 10300.89189051,  8505.06779259,\n",
              "        5503.46089073, 32464.13379806,  3321.51549208,  3877.38977161,\n",
              "        4759.77480883, 28810.89415243, 13870.40865428, 29556.455122  ,\n",
              "       31487.38994615,  6314.24302791, 35024.88188912, 37894.44985496,\n",
              "       12505.23786681, 14255.51448172,  7587.93258879, 13049.30282556,\n",
              "         517.97952518, 11355.74639273, 37580.91300612, 13371.6114411 ,\n",
              "        3724.04476678,  4508.52567092, 31481.7004095 ,  8009.90203388,\n",
              "        6089.91553588, 30419.83055099, 35276.32144552, 13115.25767768,\n",
              "        7948.57814942,  3002.36451676,  5188.16747509,  7635.77498509,\n",
              "        3492.93903127, 10390.18580314,  7820.48277948, 10520.07342659,\n",
              "       30345.22401831,  4688.08750936, 11691.84715745, 11448.12095514,\n",
              "        9367.5838072 ,  2470.37836577, 31718.57282848, 10935.96249633,\n",
              "       14850.62080743,  9116.18558124, 13833.70658288,   537.80721735,\n",
              "       15616.00946918, 10103.25151771, 10346.15963608, 29921.93049023,\n",
              "       23957.44273364, 16290.00146016,  8274.82147146,  4264.83515533,\n",
              "        6513.04764738,   967.99585919,  9917.72563938,   119.3489842 ,\n",
              "       16079.85376877,  9176.06355992,  8388.23106843, 11160.32725533,\n",
              "        7037.79075661, 16594.12062945, 15185.00082174, 11661.26679183,\n",
              "       34964.02425352, 11797.58486043,  3427.71786367,  1071.97891704,\n",
              "        5613.520822  ,  5341.31524696, 16237.71851469, 27956.64055995,\n",
              "        5519.70744813,  5031.04205741,  1042.68130397, 36339.47405657,\n",
              "       13627.92403048,  7917.5688019 ,  5185.12815574,  8135.73486468,\n",
              "       15540.5829309 , 15799.73760667, 32274.32686548, 15054.17663709,\n",
              "       33500.91543825,   278.96320262, 31948.54821205, 26414.90768632,\n",
              "       14763.93401641,  5391.25863614,  9780.16599227, 10596.9424984 ,\n",
              "        9054.43271488, 10155.45747274,  6018.22823641,  5866.83526608,\n",
              "        1256.25612256,  4191.04686298,  6172.31433475,  9078.58985932,\n",
              "       36721.43454559,  8382.61886361, 11650.51411839, 10117.04366689,\n",
              "        7902.45098948, 11166.32713833,  4681.81324658, 11480.53487799,\n",
              "       29407.28338708, 39173.36428388, 34605.95189305, 11713.5497373 ,\n",
              "        1906.01555891, 10309.93122253, 10340.12393669,  6502.25915756,\n",
              "       34498.11319719, 30132.07818162, 24075.76508704,  5753.85610159,\n",
              "        5438.32412255,  3947.20218341, 34754.85621904,  9928.47831282,\n",
              "        4929.71271879,  9668.42840629,  9286.1234912 ,  7699.62884433,\n",
              "       35361.8778846 , 15312.70854022, 10677.11993218,  6499.17850777,\n",
              "        8954.26604267, 16527.7691099 ,  6614.03255992, 27590.03644676,\n",
              "       34707.71358581, 13957.94776538, 11533.67739423, 12284.76648388,\n",
              "       13396.23325416,  4436.52771043, 14003.76281371, 14436.94960086,\n",
              "       37082.54477483, 34362.06414449, 14001.03560597, 24442.48912808,\n",
              "        2072.13708323,  2338.18687276,  4166.81270138,  4816.73355431,\n",
              "        3684.07162709,  9901.87382775, 11504.69044219, 27363.40912191,\n",
              "        1891.32817896, 11718.34385818,  7589.13848058, 13257.57562928,\n",
              "       16091.03542411,  5987.25861236, 10317.21559473,  9979.0892473 ,\n",
              "       34022.57789769,  9779.69422935,  7690.90017334,  7229.23401346,\n",
              "         442.98373406, 32129.23879545,  7020.1429694 , 32443.87551701,\n",
              "       13240.04616294,  4622.95074118,   609.49451682,  3914.04716705,\n",
              "       33460.3160837 ,  4259.57636583, 12220.87838851, 17010.94061667,\n",
              "       27567.0851941 , 25461.1922339 ,  5080.75934138, 13386.29882105,\n",
              "       27242.04921443,  9054.43271488, 11284.64949173, 11663.36778471,\n",
              "        1991.06441869, 34310.71952549, 30973.82994285,  8967.16293437,\n",
              "        4779.1378324 ,  6855.26851092, 10583.58093809,  4724.40032233,\n",
              "        5426.36410674, 11439.97716857,  8444.75938142,  4264.83515533,\n",
              "        2533.80324311, 36668.21503893, 35798.92223143, 12949.95423729,\n",
              "       12651.49052492, 38701.76369089, 35316.91339107,  8026.30114827,\n",
              "       27548.92951291,  3825.95914621, 15587.60724327, 31248.25498804,\n",
              "        7208.15764847, 10526.96854035,  9491.43396599,  8249.77067651,\n",
              "       10308.68223504,  4539.73385838,  6328.11216753,  3131.82880203,\n",
              "        7165.38015422,  6227.94549532,  4084.80316095,  8469.81162696,\n",
              "         648.29613052,  8434.86612236,  3773.2883929 , 11731.07920363,\n",
              "         886.49421275, 11969.27583528,  5096.26322501, 10237.93326204,\n",
              "       11160.32725533, 15370.52670007, 37654.07363303, 23154.92301859,\n",
              "        9932.45419337,  9104.4174345 ,  7824.72799062, 13403.01004705,\n",
              "       29793.75652289, 38637.90983165, 15779.90991449, 16269.3143536 ,\n",
              "       15723.14840198,  6700.79476112, 39048.57579862,  7631.91742541])"
            ]
          },
          "execution_count": 48,
          "metadata": {},
          "output_type": "execute_result"
        }
      ],
      "source": [
        "y_pred"
      ]
    },
    {
      "cell_type": "code",
      "execution_count": 49,
      "id": "1be314fc",
      "metadata": {},
      "outputs": [
        {
          "data": {
            "text/plain": [
              "900      8688\n",
              "1064     5708\n",
              "1256    11436\n",
              "298     38746\n",
              "237      4463\n",
              "        ...  \n",
              "534     13831\n",
              "542     13887\n",
              "760      3925\n",
              "1284    47403\n",
              "1285     8534\n",
              "Name: charges, Length: 268, dtype: int32"
            ]
          },
          "execution_count": 49,
          "metadata": {},
          "output_type": "execute_result"
        }
      ],
      "source": [
        "y_test"
      ]
    },
    {
      "cell_type": "code",
      "execution_count": 50,
      "id": "slsKcrd6oBP0",
      "metadata": {
        "colab": {
          "base_uri": "https://localhost:8080/"
        },
        "id": "slsKcrd6oBP0",
        "outputId": "5996c649-6476-48e0-d9e0-39bf2add84c1"
      },
      "outputs": [
        {
          "data": {
            "text/plain": [
              "0.7979609952867806"
            ]
          },
          "execution_count": 50,
          "metadata": {},
          "output_type": "execute_result"
        }
      ],
      "source": [
        "     # Then compare to y_test and y_pred\n",
        "\n",
        "\n",
        "from sklearn.metrics import r2_score\n",
        "\n",
        "r2 = r2_score(y_test,y_pred)\n",
        "r2\n",
        "n = X_test.shape[0]\n",
        "p = X_test.shape[1]\n",
        "adjusted_r2 = 1 - ((1- r2) * (n-1) / (n - p - 1))\n",
        "adjusted_r2"
      ]
    },
    {
      "cell_type": "code",
      "execution_count": null,
      "id": "MZ0J34HLoTN3",
      "metadata": {
        "id": "MZ0J34HLoTN3"
      },
      "outputs": [],
      "source": []
    },
    {
      "cell_type": "code",
      "execution_count": null,
      "id": "z7QIGJEJ62oG",
      "metadata": {
        "id": "z7QIGJEJ62oG"
      },
      "outputs": [],
      "source": []
    }
  ],
  "metadata": {
    "colab": {
      "provenance": []
    },
    "kernelspec": {
      "display_name": "base",
      "language": "python",
      "name": "python3"
    },
    "language_info": {
      "codemirror_mode": {
        "name": "ipython",
        "version": 3
      },
      "file_extension": ".py",
      "mimetype": "text/x-python",
      "name": "python",
      "nbconvert_exporter": "python",
      "pygments_lexer": "ipython3",
      "version": "3.12.7"
    }
  },
  "nbformat": 4,
  "nbformat_minor": 5
}
